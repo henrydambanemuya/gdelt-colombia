{
 "cells": [
  {
   "cell_type": "code",
   "execution_count": 3,
   "metadata": {
    "collapsed": false
   },
   "outputs": [
    {
     "data": {
      "text/plain": [
       "Index(['GLOBALEVENTID', 'EventTimeDate', 'MentionTimeDate', 'MentionType',\n",
       "       'MentionSourceName', 'MentionIdentifier', 'SentenceID',\n",
       "       'Actor1CharOffset', 'Actor2CharOffset', 'ActionCharOffset', 'InRawText',\n",
       "       'Confidence', 'MentionDocLen', 'MentionDocTone',\n",
       "       'MentionDocTranslationInfo', 'Extras', 'Authors', 'Publised', 'Text',\n",
       "       'Keywords', 'Summaries', 'Images', 'Movies'],\n",
       "      dtype='object')"
      ]
     },
     "execution_count": 3,
     "metadata": {},
     "output_type": "execute_result"
    }
   ],
   "source": [
    "# Import useful libraries\n",
    "import re\n",
    "import operator\n",
    "import pandas as pd\n",
    "import numpy as np\n",
    "import seaborn as sns\n",
    "import matplotlib.cm as cm\n",
    "import matplotlib.pyplot as plt\n",
    "from math import isnan\n",
    "from nltk.corpus import stopwords\n",
    "from collections import Counter\n",
    "from collections import OrderedDict \n",
    "from NewspaperLanguages import translations\n",
    "%matplotlib inline \n",
    "pd.set_option('display.max_colwidth', -1)\n",
    "# Declare global variables\n",
    "all_mentions = pd.read_csv('event_mentions_text_es.csv', encoding='latin-1').sort_values('EventTimeDate', ascending=1)\n",
    "stop = stopwords.words('spanish')\n",
    "\n",
    "all_mentions.columns"
   ]
  },
  {
   "cell_type": "code",
   "execution_count": 4,
   "metadata": {
    "collapsed": false
   },
   "outputs": [],
   "source": [
    "all_keywords = []\n",
    "for keywords in list(all_mentions.Keywords):\n",
    "     all_keywords += [word.strip() for word in keywords.replace(\"'\",'').replace(\"[\", \"\").replace(\"]\",\"\").split(',') if word != '' and word.strip() not in stop]"
   ]
  },
  {
   "cell_type": "code",
   "execution_count": 5,
   "metadata": {
    "collapsed": false
   },
   "outputs": [
    {
     "data": {
      "text/plain": [
       "[('paz', 15782),\n",
       " ('farc', 12522),\n",
       " ('colombia', 10751),\n",
       " ('acuerdo', 7501),\n",
       " ('siguen', 7089),\n",
       " ('terra', 7062),\n",
       " ('servicios', 7031),\n",
       " ('aviso', 7015),\n",
       " ('segundosclientes', 7013),\n",
       " ('gobierno', 5757),\n",
       " ('santos', 4413),\n",
       " ('nuevo', 3763),\n",
       " ('colombiano', 2500),\n",
       " ('presidente', 2443),\n",
       " ('eln', 1592),\n",
       " ('uribe', 1518),\n",
       " ('firma', 1460),\n",
       " ('tras', 1396),\n",
       " ('venezuela', 1284),\n",
       " ('proceso', 1249),\n",
       " ('onu', 1188),\n",
       " ('firman', 1185),\n",
       " ('bogotá', 1085),\n",
       " ('colombianos', 979),\n",
       " ('plebiscito', 912),\n",
       " ('pide', 814),\n",
       " ('noticias', 770),\n",
       " ('nobel', 745),\n",
       " ('juan', 726),\n",
       " ('manuel', 703),\n",
       " ('víctimas', 673),\n",
       " ('timochenko', 668),\n",
       " ('farcep', 661),\n",
       " ('colombiana', 636),\n",
       " ('verdad', 631),\n",
       " ('visita', 629),\n",
       " ('zonas', 609),\n",
       " ('país', 608),\n",
       " ('congreso', 601),\n",
       " ('guerra', 594),\n",
       " ('mundo', 590),\n",
       " ('armas', 562),\n",
       " ('territorio', 555),\n",
       " ('fuego', 548),\n",
       " ('gritamos', 540),\n",
       " ('jueves', 508),\n",
       " ('diálogo', 504),\n",
       " ('maduro', 498),\n",
       " ('24', 493),\n",
       " ('guerrilleros', 491),\n",
       " ('conflicto', 482),\n",
       " ('cartagena', 481),\n",
       " ('guerrilla', 478),\n",
       " ('pacto', 474),\n",
       " ('piden', 465),\n",
       " ('si', 461),\n",
       " ('organización', 459),\n",
       " ('editorial', 455),\n",
       " ('diario', 446),\n",
       " ('premio', 446),\n",
       " ('leer', 440),\n",
       " ('alta', 434),\n",
       " ('jefes', 434),\n",
       " ('dice', 429),\n",
       " ('mexicana', 427),\n",
       " ('líderes', 426),\n",
       " ('televisivos', 426),\n",
       " ('zona', 425),\n",
       " ('militares', 422),\n",
       " ('internacional', 422),\n",
       " ('trump', 418),\n",
       " ('histórico', 417),\n",
       " ('papa', 413),\n",
       " ('hoy', 413),\n",
       " ('reunión', 410),\n",
       " ('jefe', 409),\n",
       " ('firmar', 407),\n",
       " ('millones', 401),\n",
       " ('años', 388),\n",
       " ('ecuador', 385),\n",
       " ('implementación', 385),\n",
       " ('misión', 378),\n",
       " ('seguridad', 375),\n",
       " ('eeuu', 368),\n",
       " ('nueva', 366),\n",
       " ('hollande', 362),\n",
       " ('firmaron', 353),\n",
       " ('día', 351),\n",
       " ('policía', 347),\n",
       " ('apoyo', 338),\n",
       " ('nacional', 337),\n",
       " ('acuerdos', 333),\n",
       " ('odebrecht', 320),\n",
       " ('llegan', 317),\n",
       " ('ser', 317),\n",
       " ('aprueba', 316),\n",
       " ('perdón', 314),\n",
       " ('españa', 309),\n",
       " ('dos', 308),\n",
       " ('cese', 296)]"
      ]
     },
     "execution_count": 5,
     "metadata": {},
     "output_type": "execute_result"
    }
   ],
   "source": [
    "list(Counter(all_keywords).most_common(100))"
   ]
  },
  {
   "cell_type": "code",
   "execution_count": null,
   "metadata": {
    "collapsed": false
   },
   "outputs": [],
   "source": []
  },
  {
   "cell_type": "code",
   "execution_count": null,
   "metadata": {
    "collapsed": true
   },
   "outputs": [],
   "source": []
  }
 ],
 "metadata": {
  "kernelspec": {
   "display_name": "Python 3",
   "language": "python",
   "name": "python3"
  },
  "language_info": {
   "codemirror_mode": {
    "name": "ipython",
    "version": 3
   },
   "file_extension": ".py",
   "mimetype": "text/x-python",
   "name": "python",
   "nbconvert_exporter": "python",
   "pygments_lexer": "ipython3",
   "version": "3.6.0"
  }
 },
 "nbformat": 4,
 "nbformat_minor": 2
}
