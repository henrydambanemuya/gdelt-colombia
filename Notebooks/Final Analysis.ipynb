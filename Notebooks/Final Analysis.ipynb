{
 "cells": [
  {
   "cell_type": "code",
   "execution_count": 97,
   "metadata": {
    "collapsed": true
   },
   "outputs": [],
   "source": [
    "# Import useful libraries\n",
    "import gdeltxp\n",
    "import gdeltviz\n",
    "import operator\n",
    "import scipy as sp\n",
    "import pandas as pd\n",
    "import numpy as np\n",
    "import seaborn as sns\n",
    "import matplotlib.cm as cm\n",
    "import statsmodels.regression as reg\n",
    "import matplotlib.pyplot as plt\n",
    "from math import isnan\n",
    "from datetime import datetime\n",
    "from collections import Counter, OrderedDict\n",
    "from sklearn.preprocessing import MinMaxScaler\n",
    "%matplotlib inline \n",
    "plt.style.use('seaborn-whitegrid')"
   ]
  },
  {
   "cell_type": "code",
   "execution_count": 2,
   "metadata": {
    "collapsed": false
   },
   "outputs": [],
   "source": [
    "twitter_data = pd.read_csv('C:/Users/Administrator/Desktop/Eirene/twitter_data.csv')\n",
    "#twitter_data = pd.read_csv('C:/Users/henry/Dropbox/TWITTER/twitter_data.csv').sort_values('Timestamp', ascending=1)"
   ]
  },
  {
   "cell_type": "code",
   "execution_count": 3,
   "metadata": {
    "collapsed": false
   },
   "outputs": [],
   "source": [
    "ArrTime = [0]\n",
    "times = sorted(list(twitter_data.Timestamp))\n",
    "for i in range(len(list(twitter_data.Timestamp))-1):\n",
    "    d1 = datetime.strptime(times[i], '%Y-%m-%d %H:%M:%S') \n",
    "    d2 = datetime.strptime(times[i+1], '%Y-%m-%d %H:%M:%S') \n",
    "    delta = (d2 - d1).seconds\n",
    "    if delta < 300:\n",
    "        ArrTime.append(delta)\n",
    "    else:\n",
    "        ArrTime.append(0)        \n",
    "twitter_data['ArrTime'] = ArrTime"
   ]
  },
  {
   "cell_type": "code",
   "execution_count": 4,
   "metadata": {
    "collapsed": false
   },
   "outputs": [
    {
     "data": {
      "text/html": [
       "<div>\n",
       "<table border=\"1\" class=\"dataframe\">\n",
       "  <thead>\n",
       "    <tr style=\"text-align: right;\">\n",
       "      <th></th>\n",
       "      <th>Timestamp</th>\n",
       "      <th>UserID</th>\n",
       "      <th>RT</th>\n",
       "      <th>Fav</th>\n",
       "      <th>TweetLen</th>\n",
       "      <th>PosWords</th>\n",
       "      <th>NegWords</th>\n",
       "      <th>ArrTime</th>\n",
       "    </tr>\n",
       "  </thead>\n",
       "  <tbody>\n",
       "    <tr>\n",
       "      <th>0</th>\n",
       "      <td>2017-04-02 19:04:28</td>\n",
       "      <td>848612112494735362</td>\n",
       "      <td>439.0</td>\n",
       "      <td>233.0</td>\n",
       "      <td>27</td>\n",
       "      <td>0</td>\n",
       "      <td>0</td>\n",
       "      <td>0</td>\n",
       "    </tr>\n",
       "    <tr>\n",
       "      <th>1</th>\n",
       "      <td>2017-04-02 19:04:29</td>\n",
       "      <td>848612115128758273</td>\n",
       "      <td>0.0</td>\n",
       "      <td>0.0</td>\n",
       "      <td>18</td>\n",
       "      <td>0</td>\n",
       "      <td>0</td>\n",
       "      <td>1</td>\n",
       "    </tr>\n",
       "    <tr>\n",
       "      <th>2</th>\n",
       "      <td>2017-04-02 19:04:34</td>\n",
       "      <td>848612134816817152</td>\n",
       "      <td>119.0</td>\n",
       "      <td>137.0</td>\n",
       "      <td>29</td>\n",
       "      <td>0</td>\n",
       "      <td>0</td>\n",
       "      <td>1</td>\n",
       "    </tr>\n",
       "    <tr>\n",
       "      <th>3</th>\n",
       "      <td>2017-04-02 19:04:34</td>\n",
       "      <td>848612135479455745</td>\n",
       "      <td>554.0</td>\n",
       "      <td>460.0</td>\n",
       "      <td>22</td>\n",
       "      <td>0</td>\n",
       "      <td>0</td>\n",
       "      <td>2</td>\n",
       "    </tr>\n",
       "    <tr>\n",
       "      <th>4</th>\n",
       "      <td>2017-04-02 19:04:36</td>\n",
       "      <td>848612143448686594</td>\n",
       "      <td>168.0</td>\n",
       "      <td>157.0</td>\n",
       "      <td>26</td>\n",
       "      <td>0</td>\n",
       "      <td>0</td>\n",
       "      <td>1</td>\n",
       "    </tr>\n",
       "    <tr>\n",
       "      <th>5</th>\n",
       "      <td>2017-04-02 19:04:37</td>\n",
       "      <td>848612150235025408</td>\n",
       "      <td>1707.0</td>\n",
       "      <td>1957.0</td>\n",
       "      <td>31</td>\n",
       "      <td>0</td>\n",
       "      <td>0</td>\n",
       "      <td>0</td>\n",
       "    </tr>\n",
       "    <tr>\n",
       "      <th>6</th>\n",
       "      <td>2017-04-02 19:04:38</td>\n",
       "      <td>848612154085429250</td>\n",
       "      <td>6.0</td>\n",
       "      <td>3.0</td>\n",
       "      <td>30</td>\n",
       "      <td>0</td>\n",
       "      <td>0</td>\n",
       "      <td>0</td>\n",
       "    </tr>\n",
       "    <tr>\n",
       "      <th>7</th>\n",
       "      <td>2017-04-02 19:04:45</td>\n",
       "      <td>848612184041168896</td>\n",
       "      <td>87.0</td>\n",
       "      <td>40.0</td>\n",
       "      <td>28</td>\n",
       "      <td>0</td>\n",
       "      <td>0</td>\n",
       "      <td>2</td>\n",
       "    </tr>\n",
       "    <tr>\n",
       "      <th>8</th>\n",
       "      <td>2017-04-02 19:04:47</td>\n",
       "      <td>848612190148055043</td>\n",
       "      <td>66.0</td>\n",
       "      <td>35.0</td>\n",
       "      <td>18</td>\n",
       "      <td>0</td>\n",
       "      <td>0</td>\n",
       "      <td>0</td>\n",
       "    </tr>\n",
       "    <tr>\n",
       "      <th>9</th>\n",
       "      <td>2017-04-02 19:04:52</td>\n",
       "      <td>848612210863742977</td>\n",
       "      <td>2.0</td>\n",
       "      <td>1.0</td>\n",
       "      <td>16</td>\n",
       "      <td>0</td>\n",
       "      <td>0</td>\n",
       "      <td>1</td>\n",
       "    </tr>\n",
       "  </tbody>\n",
       "</table>\n",
       "</div>"
      ],
      "text/plain": [
       "             Timestamp              UserID      RT     Fav  TweetLen  \\\n",
       "0  2017-04-02 19:04:28  848612112494735362   439.0   233.0        27   \n",
       "1  2017-04-02 19:04:29  848612115128758273     0.0     0.0        18   \n",
       "2  2017-04-02 19:04:34  848612134816817152   119.0   137.0        29   \n",
       "3  2017-04-02 19:04:34  848612135479455745   554.0   460.0        22   \n",
       "4  2017-04-02 19:04:36  848612143448686594   168.0   157.0        26   \n",
       "5  2017-04-02 19:04:37  848612150235025408  1707.0  1957.0        31   \n",
       "6  2017-04-02 19:04:38  848612154085429250     6.0     3.0        30   \n",
       "7  2017-04-02 19:04:45  848612184041168896    87.0    40.0        28   \n",
       "8  2017-04-02 19:04:47  848612190148055043    66.0    35.0        18   \n",
       "9  2017-04-02 19:04:52  848612210863742977     2.0     1.0        16   \n",
       "\n",
       "   PosWords  NegWords  ArrTime  \n",
       "0         0         0        0  \n",
       "1         0         0        1  \n",
       "2         0         0        1  \n",
       "3         0         0        2  \n",
       "4         0         0        1  \n",
       "5         0         0        0  \n",
       "6         0         0        0  \n",
       "7         0         0        2  \n",
       "8         0         0        0  \n",
       "9         0         0        1  "
      ]
     },
     "execution_count": 4,
     "metadata": {},
     "output_type": "execute_result"
    }
   ],
   "source": [
    "twitter_data.head(10)"
   ]
  },
  {
   "cell_type": "code",
   "execution_count": 5,
   "metadata": {
    "collapsed": false
   },
   "outputs": [
    {
     "name": "stdout",
     "output_type": "stream",
     "text": [
      "Tweets:  10107404\n",
      "RT:  7642650\n",
      "Fav:  6850465\n",
      "Users:  10103102\n"
     ]
    }
   ],
   "source": [
    "print('Tweets: ', len(twitter_data))\n",
    "print('RT: ', len(twitter_data[twitter_data.RT > 0]))\n",
    "print('Fav: ', len(twitter_data[twitter_data.Fav > 0]))\n",
    "print('Users: ', len(set(twitter_data.UserID)))"
   ]
  },
  {
   "cell_type": "code",
   "execution_count": 6,
   "metadata": {
    "collapsed": false
   },
   "outputs": [
    {
     "data": {
      "text/plain": [
       "[(822518188609011714, 6),\n",
       " (822518393181904896, 6),\n",
       " (778668618129235968, 4),\n",
       " (778668612181688323, 4),\n",
       " (822518285711343617, 4),\n",
       " (778668612504653824, 4),\n",
       " (778668449245519873, 4),\n",
       " (822518784061804544, 4),\n",
       " (797562877456580608, 3),\n",
       " (778668630661881856, 3)]"
      ]
     },
     "execution_count": 6,
     "metadata": {},
     "output_type": "execute_result"
    }
   ],
   "source": [
    "Counter(twitter_data.UserID).most_common(10)"
   ]
  },
  {
   "cell_type": "code",
   "execution_count": 7,
   "metadata": {
    "collapsed": false
   },
   "outputs": [],
   "source": [
    "for index, row in twitter_data.iterrows():\n",
    "    twitter_data.set_value(index, 'Timestamp', int(row.Timestamp[:10].replace('-','')))"
   ]
  },
  {
   "cell_type": "code",
   "execution_count": 8,
   "metadata": {
    "collapsed": false
   },
   "outputs": [
    {
     "data": {
      "text/html": [
       "<div>\n",
       "<table border=\"1\" class=\"dataframe\">\n",
       "  <thead>\n",
       "    <tr style=\"text-align: right;\">\n",
       "      <th></th>\n",
       "      <th>Timestamp</th>\n",
       "      <th>UserID</th>\n",
       "      <th>RT</th>\n",
       "      <th>Fav</th>\n",
       "      <th>TweetLen</th>\n",
       "      <th>PosWords</th>\n",
       "      <th>NegWords</th>\n",
       "      <th>ArrTime</th>\n",
       "    </tr>\n",
       "  </thead>\n",
       "  <tbody>\n",
       "    <tr>\n",
       "      <th>0</th>\n",
       "      <td>20170402</td>\n",
       "      <td>848612112494735362</td>\n",
       "      <td>439.0</td>\n",
       "      <td>233.0</td>\n",
       "      <td>27</td>\n",
       "      <td>0</td>\n",
       "      <td>0</td>\n",
       "      <td>0</td>\n",
       "    </tr>\n",
       "    <tr>\n",
       "      <th>1</th>\n",
       "      <td>20170402</td>\n",
       "      <td>848612115128758273</td>\n",
       "      <td>0.0</td>\n",
       "      <td>0.0</td>\n",
       "      <td>18</td>\n",
       "      <td>0</td>\n",
       "      <td>0</td>\n",
       "      <td>1</td>\n",
       "    </tr>\n",
       "    <tr>\n",
       "      <th>2</th>\n",
       "      <td>20170402</td>\n",
       "      <td>848612134816817152</td>\n",
       "      <td>119.0</td>\n",
       "      <td>137.0</td>\n",
       "      <td>29</td>\n",
       "      <td>0</td>\n",
       "      <td>0</td>\n",
       "      <td>1</td>\n",
       "    </tr>\n",
       "    <tr>\n",
       "      <th>3</th>\n",
       "      <td>20170402</td>\n",
       "      <td>848612135479455745</td>\n",
       "      <td>554.0</td>\n",
       "      <td>460.0</td>\n",
       "      <td>22</td>\n",
       "      <td>0</td>\n",
       "      <td>0</td>\n",
       "      <td>2</td>\n",
       "    </tr>\n",
       "    <tr>\n",
       "      <th>4</th>\n",
       "      <td>20170402</td>\n",
       "      <td>848612143448686594</td>\n",
       "      <td>168.0</td>\n",
       "      <td>157.0</td>\n",
       "      <td>26</td>\n",
       "      <td>0</td>\n",
       "      <td>0</td>\n",
       "      <td>1</td>\n",
       "    </tr>\n",
       "    <tr>\n",
       "      <th>5</th>\n",
       "      <td>20170402</td>\n",
       "      <td>848612150235025408</td>\n",
       "      <td>1707.0</td>\n",
       "      <td>1957.0</td>\n",
       "      <td>31</td>\n",
       "      <td>0</td>\n",
       "      <td>0</td>\n",
       "      <td>0</td>\n",
       "    </tr>\n",
       "    <tr>\n",
       "      <th>6</th>\n",
       "      <td>20170402</td>\n",
       "      <td>848612154085429250</td>\n",
       "      <td>6.0</td>\n",
       "      <td>3.0</td>\n",
       "      <td>30</td>\n",
       "      <td>0</td>\n",
       "      <td>0</td>\n",
       "      <td>0</td>\n",
       "    </tr>\n",
       "    <tr>\n",
       "      <th>7</th>\n",
       "      <td>20170402</td>\n",
       "      <td>848612184041168896</td>\n",
       "      <td>87.0</td>\n",
       "      <td>40.0</td>\n",
       "      <td>28</td>\n",
       "      <td>0</td>\n",
       "      <td>0</td>\n",
       "      <td>2</td>\n",
       "    </tr>\n",
       "    <tr>\n",
       "      <th>8</th>\n",
       "      <td>20170402</td>\n",
       "      <td>848612190148055043</td>\n",
       "      <td>66.0</td>\n",
       "      <td>35.0</td>\n",
       "      <td>18</td>\n",
       "      <td>0</td>\n",
       "      <td>0</td>\n",
       "      <td>0</td>\n",
       "    </tr>\n",
       "    <tr>\n",
       "      <th>9</th>\n",
       "      <td>20170402</td>\n",
       "      <td>848612210863742977</td>\n",
       "      <td>2.0</td>\n",
       "      <td>1.0</td>\n",
       "      <td>16</td>\n",
       "      <td>0</td>\n",
       "      <td>0</td>\n",
       "      <td>1</td>\n",
       "    </tr>\n",
       "  </tbody>\n",
       "</table>\n",
       "</div>"
      ],
      "text/plain": [
       "  Timestamp              UserID      RT     Fav  TweetLen  PosWords  NegWords  \\\n",
       "0  20170402  848612112494735362   439.0   233.0        27         0         0   \n",
       "1  20170402  848612115128758273     0.0     0.0        18         0         0   \n",
       "2  20170402  848612134816817152   119.0   137.0        29         0         0   \n",
       "3  20170402  848612135479455745   554.0   460.0        22         0         0   \n",
       "4  20170402  848612143448686594   168.0   157.0        26         0         0   \n",
       "5  20170402  848612150235025408  1707.0  1957.0        31         0         0   \n",
       "6  20170402  848612154085429250     6.0     3.0        30         0         0   \n",
       "7  20170402  848612184041168896    87.0    40.0        28         0         0   \n",
       "8  20170402  848612190148055043    66.0    35.0        18         0         0   \n",
       "9  20170402  848612210863742977     2.0     1.0        16         0         0   \n",
       "\n",
       "   ArrTime  \n",
       "0        0  \n",
       "1        1  \n",
       "2        1  \n",
       "3        2  \n",
       "4        1  \n",
       "5        0  \n",
       "6        0  \n",
       "7        2  \n",
       "8        0  \n",
       "9        1  "
      ]
     },
     "execution_count": 8,
     "metadata": {},
     "output_type": "execute_result"
    }
   ],
   "source": [
    "twitter_data.head(10)"
   ]
  },
  {
   "cell_type": "code",
   "execution_count": 9,
   "metadata": {
    "collapsed": false
   },
   "outputs": [],
   "source": [
    "twitter_df = pd.concat([twitter_data.groupby('Timestamp')['ArrTime', 'TweetLen'].mean(), twitter_data.groupby('Timestamp')['RT', 'Fav', 'PosWords', 'NegWords'].sum()], axis=1)"
   ]
  },
  {
   "cell_type": "code",
   "execution_count": 10,
   "metadata": {
    "collapsed": false
   },
   "outputs": [],
   "source": [
    "tweet_counts = []\n",
    "for date in list(twitter_df.index):\n",
    "    tweet_counts.append(len(twitter_data[twitter_data.Timestamp == date]))\n",
    "twitter_df['Tweets'] = tweet_counts"
   ]
  },
  {
   "cell_type": "code",
   "execution_count": 11,
   "metadata": {
    "collapsed": false
   },
   "outputs": [
    {
     "data": {
      "text/html": [
       "<div>\n",
       "<table border=\"1\" class=\"dataframe\">\n",
       "  <thead>\n",
       "    <tr style=\"text-align: right;\">\n",
       "      <th></th>\n",
       "      <th>ArrTime</th>\n",
       "      <th>TweetLen</th>\n",
       "      <th>RT</th>\n",
       "      <th>Fav</th>\n",
       "      <th>PosWords</th>\n",
       "      <th>NegWords</th>\n",
       "      <th>Tweets</th>\n",
       "    </tr>\n",
       "    <tr>\n",
       "      <th>Timestamp</th>\n",
       "      <th></th>\n",
       "      <th></th>\n",
       "      <th></th>\n",
       "      <th></th>\n",
       "      <th></th>\n",
       "      <th></th>\n",
       "      <th></th>\n",
       "    </tr>\n",
       "  </thead>\n",
       "  <tbody>\n",
       "    <tr>\n",
       "      <th>20160911</th>\n",
       "      <td>1.048383</td>\n",
       "      <td>24.457235</td>\n",
       "      <td>287660.0</td>\n",
       "      <td>164738.0</td>\n",
       "      <td>258</td>\n",
       "      <td>45</td>\n",
       "      <td>4361</td>\n",
       "    </tr>\n",
       "    <tr>\n",
       "      <th>20160912</th>\n",
       "      <td>1.930897</td>\n",
       "      <td>24.494482</td>\n",
       "      <td>4532694.0</td>\n",
       "      <td>3086731.0</td>\n",
       "      <td>2942</td>\n",
       "      <td>739</td>\n",
       "      <td>36062</td>\n",
       "    </tr>\n",
       "    <tr>\n",
       "      <th>20160913</th>\n",
       "      <td>1.619007</td>\n",
       "      <td>25.076207</td>\n",
       "      <td>4915644.0</td>\n",
       "      <td>3052886.0</td>\n",
       "      <td>4295</td>\n",
       "      <td>1334</td>\n",
       "      <td>48867</td>\n",
       "    </tr>\n",
       "    <tr>\n",
       "      <th>20160914</th>\n",
       "      <td>0.845102</td>\n",
       "      <td>25.037506</td>\n",
       "      <td>2883815.0</td>\n",
       "      <td>2056129.0</td>\n",
       "      <td>2612</td>\n",
       "      <td>525</td>\n",
       "      <td>31808</td>\n",
       "    </tr>\n",
       "    <tr>\n",
       "      <th>20160915</th>\n",
       "      <td>1.741547</td>\n",
       "      <td>24.959742</td>\n",
       "      <td>1670461.0</td>\n",
       "      <td>1061135.0</td>\n",
       "      <td>1612</td>\n",
       "      <td>448</td>\n",
       "      <td>20170</td>\n",
       "    </tr>\n",
       "    <tr>\n",
       "      <th>20160916</th>\n",
       "      <td>1.074823</td>\n",
       "      <td>24.219481</td>\n",
       "      <td>2159568.0</td>\n",
       "      <td>1390254.0</td>\n",
       "      <td>2409</td>\n",
       "      <td>687</td>\n",
       "      <td>40295</td>\n",
       "    </tr>\n",
       "    <tr>\n",
       "      <th>20160917</th>\n",
       "      <td>1.977888</td>\n",
       "      <td>23.876874</td>\n",
       "      <td>2534144.0</td>\n",
       "      <td>1698023.0</td>\n",
       "      <td>3128</td>\n",
       "      <td>1094</td>\n",
       "      <td>46627</td>\n",
       "    </tr>\n",
       "    <tr>\n",
       "      <th>20160918</th>\n",
       "      <td>2.240310</td>\n",
       "      <td>24.307525</td>\n",
       "      <td>2232602.0</td>\n",
       "      <td>1534565.0</td>\n",
       "      <td>2876</td>\n",
       "      <td>604</td>\n",
       "      <td>41821</td>\n",
       "    </tr>\n",
       "    <tr>\n",
       "      <th>20160919</th>\n",
       "      <td>2.600000</td>\n",
       "      <td>24.358969</td>\n",
       "      <td>3513855.0</td>\n",
       "      <td>2132814.0</td>\n",
       "      <td>3880</td>\n",
       "      <td>807</td>\n",
       "      <td>53740</td>\n",
       "    </tr>\n",
       "    <tr>\n",
       "      <th>20160920</th>\n",
       "      <td>2.306170</td>\n",
       "      <td>24.400921</td>\n",
       "      <td>3545878.0</td>\n",
       "      <td>1911385.0</td>\n",
       "      <td>2556</td>\n",
       "      <td>469</td>\n",
       "      <td>43208</td>\n",
       "    </tr>\n",
       "  </tbody>\n",
       "</table>\n",
       "</div>"
      ],
      "text/plain": [
       "            ArrTime   TweetLen         RT        Fav  PosWords  NegWords  \\\n",
       "Timestamp                                                                  \n",
       "20160911   1.048383  24.457235   287660.0   164738.0       258        45   \n",
       "20160912   1.930897  24.494482  4532694.0  3086731.0      2942       739   \n",
       "20160913   1.619007  25.076207  4915644.0  3052886.0      4295      1334   \n",
       "20160914   0.845102  25.037506  2883815.0  2056129.0      2612       525   \n",
       "20160915   1.741547  24.959742  1670461.0  1061135.0      1612       448   \n",
       "20160916   1.074823  24.219481  2159568.0  1390254.0      2409       687   \n",
       "20160917   1.977888  23.876874  2534144.0  1698023.0      3128      1094   \n",
       "20160918   2.240310  24.307525  2232602.0  1534565.0      2876       604   \n",
       "20160919   2.600000  24.358969  3513855.0  2132814.0      3880       807   \n",
       "20160920   2.306170  24.400921  3545878.0  1911385.0      2556       469   \n",
       "\n",
       "           Tweets  \n",
       "Timestamp          \n",
       "20160911     4361  \n",
       "20160912    36062  \n",
       "20160913    48867  \n",
       "20160914    31808  \n",
       "20160915    20170  \n",
       "20160916    40295  \n",
       "20160917    46627  \n",
       "20160918    41821  \n",
       "20160919    53740  \n",
       "20160920    43208  "
      ]
     },
     "execution_count": 11,
     "metadata": {},
     "output_type": "execute_result"
    }
   ],
   "source": [
    "twitter_df.head(10)"
   ]
  },
  {
   "cell_type": "code",
   "execution_count": 12,
   "metadata": {
    "collapsed": false
   },
   "outputs": [],
   "source": [
    "#fav = scaler.fit_transform(list(twitter_df.Fav))\n",
    "#rt = scaler.fit_transform(list(twitter_df.RT))\n",
    "#tweets = scaler.fit_transform(list(twitter_df.Tweets))\n",
    "#PI = []\n",
    "#for i in range(len(tweets)):\n",
    "#    PI.append((fav[i]*rt[i]*tweets[i])**(1./3.))\n",
    "#twitter_df['PI'] = PI"
   ]
  },
  {
   "cell_type": "code",
   "execution_count": 13,
   "metadata": {
    "collapsed": false
   },
   "outputs": [],
   "source": [
    "#twitter_df.head(10)"
   ]
  },
  {
   "cell_type": "code",
   "execution_count": 14,
   "metadata": {
    "collapsed": false
   },
   "outputs": [],
   "source": [
    "#del twitter_df['Fav']\n",
    "#del twitter_df['RT']\n",
    "#del twitter_df['Tweets']\n",
    "#twitter_df.head(10)"
   ]
  },
  {
   "cell_type": "markdown",
   "metadata": {},
   "source": [
    "# Inter-arrival Time"
   ]
  },
  {
   "cell_type": "code",
   "execution_count": 15,
   "metadata": {
    "collapsed": false
   },
   "outputs": [
    {
     "data": {
      "text/plain": [
       "[<matplotlib.lines.Line2D at 0x8600171c50>]"
      ]
     },
     "execution_count": 15,
     "metadata": {},
     "output_type": "execute_result"
    },
    {
     "data": {
      "image/png": "[encoded data removed]",
      "text/plain": [
       "<matplotlib.figure.Figure at 0x863827aa58>"
      ]
     },
     "metadata": {},
     "output_type": "display_data"
    }
   ],
   "source": [
    "plt.plot(ArrTime)"
   ]
  },
  {
   "cell_type": "code",
   "execution_count": 16,
   "metadata": {
    "collapsed": false
   },
   "outputs": [
    {
     "data": {
      "text/plain": [
       "[<matplotlib.lines.Line2D at 0x86002252b0>]"
      ]
     },
     "execution_count": 16,
     "metadata": {},
     "output_type": "execute_result"
    },
    {
     "data": {
      "image/png": "[encoded data removed]",
      "text/plain": [
       "<matplotlib.figure.Figure at 0x860017c860>"
      ]
     },
     "metadata": {},
     "output_type": "display_data"
    }
   ],
   "source": [
    "plt.plot(list(twitter_df.ArrTime))"
   ]
  },
  {
   "cell_type": "code",
   "execution_count": 114,
   "metadata": {
    "collapsed": false
   },
   "outputs": [
    {
     "data": {
      "text/html": [
       "<div>\n",
       "<table border=\"1\" class=\"dataframe\">\n",
       "  <thead>\n",
       "    <tr style=\"text-align: right;\">\n",
       "      <th></th>\n",
       "      <th>ArrTime</th>\n",
       "      <th>TweetLen</th>\n",
       "      <th>RT</th>\n",
       "      <th>Fav</th>\n",
       "      <th>PosWords</th>\n",
       "      <th>NegWords</th>\n",
       "      <th>Tweets</th>\n",
       "      <th>Dates</th>\n",
       "    </tr>\n",
       "    <tr>\n",
       "      <th>Timestamp</th>\n",
       "      <th></th>\n",
       "      <th></th>\n",
       "      <th></th>\n",
       "      <th></th>\n",
       "      <th></th>\n",
       "      <th></th>\n",
       "      <th></th>\n",
       "      <th></th>\n",
       "    </tr>\n",
       "  </thead>\n",
       "  <tbody>\n",
       "    <tr>\n",
       "      <th>20170813</th>\n",
       "      <td>0.085333</td>\n",
       "      <td>24.714476</td>\n",
       "      <td>8237391.0</td>\n",
       "      <td>6256399.0</td>\n",
       "      <td>1385</td>\n",
       "      <td>378</td>\n",
       "      <td>34547</td>\n",
       "      <td>20170813</td>\n",
       "    </tr>\n",
       "    <tr>\n",
       "      <th>20170814</th>\n",
       "      <td>0.142470</td>\n",
       "      <td>24.827059</td>\n",
       "      <td>9694860.0</td>\n",
       "      <td>6279409.0</td>\n",
       "      <td>3844</td>\n",
       "      <td>484</td>\n",
       "      <td>48768</td>\n",
       "      <td>20170814</td>\n",
       "    </tr>\n",
       "    <tr>\n",
       "      <th>20170815</th>\n",
       "      <td>0.236865</td>\n",
       "      <td>24.027125</td>\n",
       "      <td>8976568.0</td>\n",
       "      <td>6112525.0</td>\n",
       "      <td>3176</td>\n",
       "      <td>1373</td>\n",
       "      <td>63741</td>\n",
       "      <td>20170815</td>\n",
       "    </tr>\n",
       "    <tr>\n",
       "      <th>20170816</th>\n",
       "      <td>0.188661</td>\n",
       "      <td>24.081985</td>\n",
       "      <td>12941491.0</td>\n",
       "      <td>10394974.0</td>\n",
       "      <td>4478</td>\n",
       "      <td>1566</td>\n",
       "      <td>69903</td>\n",
       "      <td>20170816</td>\n",
       "    </tr>\n",
       "  </tbody>\n",
       "</table>\n",
       "</div>"
      ],
      "text/plain": [
       "            ArrTime   TweetLen          RT         Fav  PosWords  NegWords  \\\n",
       "Timestamp                                                                    \n",
       "20170813   0.085333  24.714476   8237391.0   6256399.0      1385       378   \n",
       "20170814   0.142470  24.827059   9694860.0   6279409.0      3844       484   \n",
       "20170815   0.236865  24.027125   8976568.0   6112525.0      3176      1373   \n",
       "20170816   0.188661  24.081985  12941491.0  10394974.0      4478      1566   \n",
       "\n",
       "           Tweets     Dates  \n",
       "Timestamp                    \n",
       "20170813    34547  20170813  \n",
       "20170814    48768  20170814  \n",
       "20170815    63741  20170815  \n",
       "20170816    69903  20170816  "
      ]
     },
     "execution_count": 114,
     "metadata": {},
     "output_type": "execute_result"
    }
   ],
   "source": [
    "twitter_df[twitter_df.ArrTime <= .25]"
   ]
  },
  {
   "cell_type": "code",
   "execution_count": 115,
   "metadata": {
    "collapsed": false
   },
   "outputs": [
    {
     "data": {
      "text/html": [
       "<div>\n",
       "<table border=\"1\" class=\"dataframe\">\n",
       "  <thead>\n",
       "    <tr style=\"text-align: right;\">\n",
       "      <th></th>\n",
       "      <th>ArrTime</th>\n",
       "      <th>TweetLen</th>\n",
       "      <th>RT</th>\n",
       "      <th>Fav</th>\n",
       "      <th>PosWords</th>\n",
       "      <th>NegWords</th>\n",
       "      <th>Tweets</th>\n",
       "      <th>Dates</th>\n",
       "    </tr>\n",
       "    <tr>\n",
       "      <th>Timestamp</th>\n",
       "      <th></th>\n",
       "      <th></th>\n",
       "      <th></th>\n",
       "      <th></th>\n",
       "      <th></th>\n",
       "      <th></th>\n",
       "      <th></th>\n",
       "      <th></th>\n",
       "    </tr>\n",
       "  </thead>\n",
       "  <tbody>\n",
       "    <tr>\n",
       "      <th>20170813</th>\n",
       "      <td>0.085333</td>\n",
       "      <td>24.714476</td>\n",
       "      <td>8237391.0</td>\n",
       "      <td>6256399.0</td>\n",
       "      <td>1385</td>\n",
       "      <td>378</td>\n",
       "      <td>34547</td>\n",
       "      <td>20170813</td>\n",
       "    </tr>\n",
       "  </tbody>\n",
       "</table>\n",
       "</div>"
      ],
      "text/plain": [
       "            ArrTime   TweetLen         RT        Fav  PosWords  NegWords  \\\n",
       "Timestamp                                                                  \n",
       "20170813   0.085333  24.714476  8237391.0  6256399.0      1385       378   \n",
       "\n",
       "           Tweets     Dates  \n",
       "Timestamp                    \n",
       "20170813    34547  20170813  "
      ]
     },
     "execution_count": 115,
     "metadata": {},
     "output_type": "execute_result"
    }
   ],
   "source": [
    "twitter_df[twitter_df.ArrTime == twitter_df.ArrTime.min()]"
   ]
  },
  {
   "cell_type": "code",
   "execution_count": 116,
   "metadata": {
    "collapsed": false
   },
   "outputs": [
    {
     "data": {
      "text/plain": [
       "1.0336113224412309"
      ]
     },
     "execution_count": 116,
     "metadata": {},
     "output_type": "execute_result"
    }
   ],
   "source": [
    "twitter_df.ArrTime.mean() - twitter_df.ArrTime.std()"
   ]
  },
  {
   "cell_type": "markdown",
   "metadata": {},
   "source": [
    "# Tweet Length"
   ]
  },
  {
   "cell_type": "code",
   "execution_count": 117,
   "metadata": {
    "collapsed": false
   },
   "outputs": [
    {
     "data": {
      "text/plain": [
       "[<matplotlib.lines.Line2D at 0x8662acd780>]"
      ]
     },
     "execution_count": 117,
     "metadata": {},
     "output_type": "execute_result"
    },
    {
     "data": {
      "image/png": "[encoded data removed]",
      "text/plain": [
       "<matplotlib.figure.Figure at 0x86629a4160>"
      ]
     },
     "metadata": {},
     "output_type": "display_data"
    }
   ],
   "source": [
    "plt.plot(list(twitter_df.TweetLen))"
   ]
  },
  {
   "cell_type": "code",
   "execution_count": 118,
   "metadata": {
    "collapsed": false
   },
   "outputs": [
    {
     "data": {
      "text/html": [
       "<div>\n",
       "<table border=\"1\" class=\"dataframe\">\n",
       "  <thead>\n",
       "    <tr style=\"text-align: right;\">\n",
       "      <th></th>\n",
       "      <th>ArrTime</th>\n",
       "      <th>TweetLen</th>\n",
       "      <th>RT</th>\n",
       "      <th>Fav</th>\n",
       "      <th>PosWords</th>\n",
       "      <th>NegWords</th>\n",
       "      <th>Tweets</th>\n",
       "      <th>Dates</th>\n",
       "    </tr>\n",
       "    <tr>\n",
       "      <th>Timestamp</th>\n",
       "      <th></th>\n",
       "      <th></th>\n",
       "      <th></th>\n",
       "      <th></th>\n",
       "      <th></th>\n",
       "      <th></th>\n",
       "      <th></th>\n",
       "      <th></th>\n",
       "    </tr>\n",
       "  </thead>\n",
       "  <tbody>\n",
       "    <tr>\n",
       "      <th>20160913</th>\n",
       "      <td>1.619007</td>\n",
       "      <td>25.076207</td>\n",
       "      <td>4915644.0</td>\n",
       "      <td>3052886.0</td>\n",
       "      <td>4295</td>\n",
       "      <td>1334</td>\n",
       "      <td>48867</td>\n",
       "      <td>20160913</td>\n",
       "    </tr>\n",
       "    <tr>\n",
       "      <th>20160914</th>\n",
       "      <td>0.845102</td>\n",
       "      <td>25.037506</td>\n",
       "      <td>2883815.0</td>\n",
       "      <td>2056129.0</td>\n",
       "      <td>2612</td>\n",
       "      <td>525</td>\n",
       "      <td>31808</td>\n",
       "      <td>20160914</td>\n",
       "    </tr>\n",
       "    <tr>\n",
       "      <th>20170104</th>\n",
       "      <td>1.582464</td>\n",
       "      <td>25.201869</td>\n",
       "      <td>16278093.0</td>\n",
       "      <td>17012411.0</td>\n",
       "      <td>1300</td>\n",
       "      <td>3646</td>\n",
       "      <td>43340</td>\n",
       "      <td>20170104</td>\n",
       "    </tr>\n",
       "    <tr>\n",
       "      <th>20170412</th>\n",
       "      <td>3.822371</td>\n",
       "      <td>25.435347</td>\n",
       "      <td>1276962.0</td>\n",
       "      <td>786348.0</td>\n",
       "      <td>375</td>\n",
       "      <td>105</td>\n",
       "      <td>8940</td>\n",
       "      <td>20170412</td>\n",
       "    </tr>\n",
       "    <tr>\n",
       "      <th>20170524</th>\n",
       "      <td>1.587007</td>\n",
       "      <td>25.190255</td>\n",
       "      <td>72014.0</td>\n",
       "      <td>40183.0</td>\n",
       "      <td>30</td>\n",
       "      <td>2</td>\n",
       "      <td>431</td>\n",
       "      <td>20170524</td>\n",
       "    </tr>\n",
       "    <tr>\n",
       "      <th>20170616</th>\n",
       "      <td>3.338293</td>\n",
       "      <td>25.412840</td>\n",
       "      <td>7470447.0</td>\n",
       "      <td>7733936.0</td>\n",
       "      <td>1473</td>\n",
       "      <td>171</td>\n",
       "      <td>27352</td>\n",
       "      <td>20170616</td>\n",
       "    </tr>\n",
       "    <tr>\n",
       "      <th>20170807</th>\n",
       "      <td>1.375479</td>\n",
       "      <td>25.082580</td>\n",
       "      <td>7990118.0</td>\n",
       "      <td>5703150.0</td>\n",
       "      <td>3918</td>\n",
       "      <td>637</td>\n",
       "      <td>36050</td>\n",
       "      <td>20170807</td>\n",
       "    </tr>\n",
       "    <tr>\n",
       "      <th>20161201</th>\n",
       "      <td>1.853071</td>\n",
       "      <td>22.563364</td>\n",
       "      <td>3001958.0</td>\n",
       "      <td>2231720.0</td>\n",
       "      <td>2272</td>\n",
       "      <td>717</td>\n",
       "      <td>44552</td>\n",
       "      <td>20161201</td>\n",
       "    </tr>\n",
       "    <tr>\n",
       "      <th>20170208</th>\n",
       "      <td>1.373436</td>\n",
       "      <td>22.678227</td>\n",
       "      <td>2238142.0</td>\n",
       "      <td>1167901.0</td>\n",
       "      <td>1053</td>\n",
       "      <td>477</td>\n",
       "      <td>26615</td>\n",
       "      <td>20170208</td>\n",
       "    </tr>\n",
       "    <tr>\n",
       "      <th>20170901</th>\n",
       "      <td>2.951852</td>\n",
       "      <td>22.504195</td>\n",
       "      <td>2163167.0</td>\n",
       "      <td>1460609.0</td>\n",
       "      <td>648</td>\n",
       "      <td>164</td>\n",
       "      <td>18713</td>\n",
       "      <td>20170901</td>\n",
       "    </tr>\n",
       "  </tbody>\n",
       "</table>\n",
       "</div>"
      ],
      "text/plain": [
       "            ArrTime   TweetLen          RT         Fav  PosWords  NegWords  \\\n",
       "Timestamp                                                                    \n",
       "20160913   1.619007  25.076207   4915644.0   3052886.0      4295      1334   \n",
       "20160914   0.845102  25.037506   2883815.0   2056129.0      2612       525   \n",
       "20170104   1.582464  25.201869  16278093.0  17012411.0      1300      3646   \n",
       "20170412   3.822371  25.435347   1276962.0    786348.0       375       105   \n",
       "20170524   1.587007  25.190255     72014.0     40183.0        30         2   \n",
       "20170616   3.338293  25.412840   7470447.0   7733936.0      1473       171   \n",
       "20170807   1.375479  25.082580   7990118.0   5703150.0      3918       637   \n",
       "20161201   1.853071  22.563364   3001958.0   2231720.0      2272       717   \n",
       "20170208   1.373436  22.678227   2238142.0   1167901.0      1053       477   \n",
       "20170901   2.951852  22.504195   2163167.0   1460609.0       648       164   \n",
       "\n",
       "           Tweets     Dates  \n",
       "Timestamp                    \n",
       "20160913    48867  20160913  \n",
       "20160914    31808  20160914  \n",
       "20170104    43340  20170104  \n",
       "20170412     8940  20170412  \n",
       "20170524      431  20170524  \n",
       "20170616    27352  20170616  \n",
       "20170807    36050  20170807  \n",
       "20161201    44552  20161201  \n",
       "20170208    26615  20170208  \n",
       "20170901    18713  20170901  "
      ]
     },
     "execution_count": 118,
     "metadata": {},
     "output_type": "execute_result"
    }
   ],
   "source": [
    "pd.concat([twitter_df[twitter_df['TweetLen'] >= 25], twitter_df[twitter_df['TweetLen'] <=22.8]])"
   ]
  },
  {
   "cell_type": "code",
   "execution_count": 119,
   "metadata": {
    "collapsed": false
   },
   "outputs": [
    {
     "data": {
      "text/plain": [
       "24.03014807692297"
      ]
     },
     "execution_count": 119,
     "metadata": {},
     "output_type": "execute_result"
    }
   ],
   "source": [
    "twitter_df.TweetLen.mean()"
   ]
  },
  {
   "cell_type": "markdown",
   "metadata": {},
   "source": [
    "# Positive Words"
   ]
  },
  {
   "cell_type": "code",
   "execution_count": 120,
   "metadata": {
    "collapsed": false
   },
   "outputs": [
    {
     "data": {
      "text/plain": [
       "[<matplotlib.lines.Line2D at 0x8662a41780>]"
      ]
     },
     "execution_count": 120,
     "metadata": {},
     "output_type": "execute_result"
    },
    {
     "data": {
      "image/png": "[encoded data removed]",
      "text/plain": [
       "<matplotlib.figure.Figure at 0x86629f3438>"
      ]
     },
     "metadata": {},
     "output_type": "display_data"
    }
   ],
   "source": [
    "plt.plot(list(twitter_df.PosWords))\n",
    "#plt.yscale('log')"
   ]
  },
  {
   "cell_type": "code",
   "execution_count": 121,
   "metadata": {
    "collapsed": false
   },
   "outputs": [
    {
     "data": {
      "text/html": [
       "<div>\n",
       "<table border=\"1\" class=\"dataframe\">\n",
       "  <thead>\n",
       "    <tr style=\"text-align: right;\">\n",
       "      <th></th>\n",
       "      <th>ArrTime</th>\n",
       "      <th>TweetLen</th>\n",
       "      <th>RT</th>\n",
       "      <th>Fav</th>\n",
       "      <th>PosWords</th>\n",
       "      <th>NegWords</th>\n",
       "      <th>Tweets</th>\n",
       "      <th>Dates</th>\n",
       "    </tr>\n",
       "    <tr>\n",
       "      <th>Timestamp</th>\n",
       "      <th></th>\n",
       "      <th></th>\n",
       "      <th></th>\n",
       "      <th></th>\n",
       "      <th></th>\n",
       "      <th></th>\n",
       "      <th></th>\n",
       "      <th></th>\n",
       "    </tr>\n",
       "  </thead>\n",
       "  <tbody>\n",
       "    <tr>\n",
       "      <th>20160926</th>\n",
       "      <td>0.933233</td>\n",
       "      <td>23.873653</td>\n",
       "      <td>5985811.0</td>\n",
       "      <td>5013764.0</td>\n",
       "      <td>6026</td>\n",
       "      <td>2391</td>\n",
       "      <td>124673</td>\n",
       "      <td>20160926</td>\n",
       "    </tr>\n",
       "    <tr>\n",
       "      <th>20160927</th>\n",
       "      <td>1.685801</td>\n",
       "      <td>24.402781</td>\n",
       "      <td>9200130.0</td>\n",
       "      <td>8175263.0</td>\n",
       "      <td>7593</td>\n",
       "      <td>6838</td>\n",
       "      <td>94771</td>\n",
       "      <td>20160927</td>\n",
       "    </tr>\n",
       "    <tr>\n",
       "      <th>20161003</th>\n",
       "      <td>2.255713</td>\n",
       "      <td>24.223281</td>\n",
       "      <td>62567286.0</td>\n",
       "      <td>48757933.0</td>\n",
       "      <td>17581</td>\n",
       "      <td>14317</td>\n",
       "      <td>284381</td>\n",
       "      <td>20161003</td>\n",
       "    </tr>\n",
       "    <tr>\n",
       "      <th>20161005</th>\n",
       "      <td>2.320443</td>\n",
       "      <td>24.332754</td>\n",
       "      <td>15339818.0</td>\n",
       "      <td>11324840.0</td>\n",
       "      <td>13033</td>\n",
       "      <td>2482</td>\n",
       "      <td>132404</td>\n",
       "      <td>20161005</td>\n",
       "    </tr>\n",
       "    <tr>\n",
       "      <th>20161009</th>\n",
       "      <td>2.596731</td>\n",
       "      <td>24.141167</td>\n",
       "      <td>5915031.0</td>\n",
       "      <td>4769140.0</td>\n",
       "      <td>7776</td>\n",
       "      <td>1288</td>\n",
       "      <td>57577</td>\n",
       "      <td>20161009</td>\n",
       "    </tr>\n",
       "  </tbody>\n",
       "</table>\n",
       "</div>"
      ],
      "text/plain": [
       "            ArrTime   TweetLen          RT         Fav  PosWords  NegWords  \\\n",
       "Timestamp                                                                    \n",
       "20160926   0.933233  23.873653   5985811.0   5013764.0      6026      2391   \n",
       "20160927   1.685801  24.402781   9200130.0   8175263.0      7593      6838   \n",
       "20161003   2.255713  24.223281  62567286.0  48757933.0     17581     14317   \n",
       "20161005   2.320443  24.332754  15339818.0  11324840.0     13033      2482   \n",
       "20161009   2.596731  24.141167   5915031.0   4769140.0      7776      1288   \n",
       "\n",
       "           Tweets     Dates  \n",
       "Timestamp                    \n",
       "20160926   124673  20160926  \n",
       "20160927    94771  20160927  \n",
       "20161003   284381  20161003  \n",
       "20161005   132404  20161005  \n",
       "20161009    57577  20161009  "
      ]
     },
     "execution_count": 121,
     "metadata": {},
     "output_type": "execute_result"
    }
   ],
   "source": [
    "twitter_df[twitter_df.PosWords >= 6e3]"
   ]
  },
  {
   "cell_type": "code",
   "execution_count": 122,
   "metadata": {
    "collapsed": false
   },
   "outputs": [
    {
     "data": {
      "text/html": [
       "<div>\n",
       "<table border=\"1\" class=\"dataframe\">\n",
       "  <thead>\n",
       "    <tr style=\"text-align: right;\">\n",
       "      <th></th>\n",
       "      <th>ArrTime</th>\n",
       "      <th>TweetLen</th>\n",
       "      <th>RT</th>\n",
       "      <th>Fav</th>\n",
       "      <th>PosWords</th>\n",
       "      <th>NegWords</th>\n",
       "      <th>Tweets</th>\n",
       "      <th>Dates</th>\n",
       "    </tr>\n",
       "    <tr>\n",
       "      <th>Timestamp</th>\n",
       "      <th></th>\n",
       "      <th></th>\n",
       "      <th></th>\n",
       "      <th></th>\n",
       "      <th></th>\n",
       "      <th></th>\n",
       "      <th></th>\n",
       "      <th></th>\n",
       "    </tr>\n",
       "  </thead>\n",
       "  <tbody>\n",
       "    <tr>\n",
       "      <th>20161003</th>\n",
       "      <td>2.255713</td>\n",
       "      <td>24.223281</td>\n",
       "      <td>62567286.0</td>\n",
       "      <td>48757933.0</td>\n",
       "      <td>17581</td>\n",
       "      <td>14317</td>\n",
       "      <td>284381</td>\n",
       "      <td>20161003</td>\n",
       "    </tr>\n",
       "  </tbody>\n",
       "</table>\n",
       "</div>"
      ],
      "text/plain": [
       "            ArrTime   TweetLen          RT         Fav  PosWords  NegWords  \\\n",
       "Timestamp                                                                    \n",
       "20161003   2.255713  24.223281  62567286.0  48757933.0     17581     14317   \n",
       "\n",
       "           Tweets     Dates  \n",
       "Timestamp                    \n",
       "20161003   284381  20161003  "
      ]
     },
     "execution_count": 122,
     "metadata": {},
     "output_type": "execute_result"
    }
   ],
   "source": [
    "twitter_df[twitter_df.PosWords == twitter_df.PosWords.max()]"
   ]
  },
  {
   "cell_type": "markdown",
   "metadata": {},
   "source": [
    "# Negative Words"
   ]
  },
  {
   "cell_type": "code",
   "execution_count": 123,
   "metadata": {
    "collapsed": false
   },
   "outputs": [
    {
     "data": {
      "text/plain": [
       "[<matplotlib.lines.Line2D at 0x8662af2eb8>]"
      ]
     },
     "execution_count": 123,
     "metadata": {},
     "output_type": "execute_result"
    },
    {
     "data": {
      "image/png": "[encoded data removed]",
      "text/plain": [
       "<matplotlib.figure.Figure at 0x8662a12160>"
      ]
     },
     "metadata": {},
     "output_type": "display_data"
    }
   ],
   "source": [
    "plt.plot(list(twitter_df.NegWords))\n",
    "#plt.yscale('log')"
   ]
  },
  {
   "cell_type": "code",
   "execution_count": 127,
   "metadata": {
    "collapsed": false
   },
   "outputs": [
    {
     "data": {
      "text/html": [
       "<div>\n",
       "<table border=\"1\" class=\"dataframe\">\n",
       "  <thead>\n",
       "    <tr style=\"text-align: right;\">\n",
       "      <th></th>\n",
       "      <th>ArrTime</th>\n",
       "      <th>TweetLen</th>\n",
       "      <th>RT</th>\n",
       "      <th>Fav</th>\n",
       "      <th>PosWords</th>\n",
       "      <th>NegWords</th>\n",
       "      <th>Tweets</th>\n",
       "      <th>Dates</th>\n",
       "    </tr>\n",
       "    <tr>\n",
       "      <th>Timestamp</th>\n",
       "      <th></th>\n",
       "      <th></th>\n",
       "      <th></th>\n",
       "      <th></th>\n",
       "      <th></th>\n",
       "      <th></th>\n",
       "      <th></th>\n",
       "      <th></th>\n",
       "    </tr>\n",
       "  </thead>\n",
       "  <tbody>\n",
       "    <tr>\n",
       "      <th>20160926</th>\n",
       "      <td>0.933233</td>\n",
       "      <td>23.873653</td>\n",
       "      <td>5985811.0</td>\n",
       "      <td>5013764.0</td>\n",
       "      <td>6026</td>\n",
       "      <td>2391</td>\n",
       "      <td>124673</td>\n",
       "      <td>20160926</td>\n",
       "    </tr>\n",
       "    <tr>\n",
       "      <th>20160927</th>\n",
       "      <td>1.685801</td>\n",
       "      <td>24.402781</td>\n",
       "      <td>9200130.0</td>\n",
       "      <td>8175263.0</td>\n",
       "      <td>7593</td>\n",
       "      <td>6838</td>\n",
       "      <td>94771</td>\n",
       "      <td>20160927</td>\n",
       "    </tr>\n",
       "    <tr>\n",
       "      <th>20161003</th>\n",
       "      <td>2.255713</td>\n",
       "      <td>24.223281</td>\n",
       "      <td>62567286.0</td>\n",
       "      <td>48757933.0</td>\n",
       "      <td>17581</td>\n",
       "      <td>14317</td>\n",
       "      <td>284381</td>\n",
       "      <td>20161003</td>\n",
       "    </tr>\n",
       "    <tr>\n",
       "      <th>20161005</th>\n",
       "      <td>2.320443</td>\n",
       "      <td>24.332754</td>\n",
       "      <td>15339818.0</td>\n",
       "      <td>11324840.0</td>\n",
       "      <td>13033</td>\n",
       "      <td>2482</td>\n",
       "      <td>132404</td>\n",
       "      <td>20161005</td>\n",
       "    </tr>\n",
       "    <tr>\n",
       "      <th>20170103</th>\n",
       "      <td>1.809688</td>\n",
       "      <td>24.905600</td>\n",
       "      <td>6333060.0</td>\n",
       "      <td>4055694.0</td>\n",
       "      <td>1891</td>\n",
       "      <td>2234</td>\n",
       "      <td>47606</td>\n",
       "      <td>20170103</td>\n",
       "    </tr>\n",
       "    <tr>\n",
       "      <th>20170104</th>\n",
       "      <td>1.582464</td>\n",
       "      <td>25.201869</td>\n",
       "      <td>16278093.0</td>\n",
       "      <td>17012411.0</td>\n",
       "      <td>1300</td>\n",
       "      <td>3646</td>\n",
       "      <td>43340</td>\n",
       "      <td>20170104</td>\n",
       "    </tr>\n",
       "    <tr>\n",
       "      <th>20170219</th>\n",
       "      <td>0.944512</td>\n",
       "      <td>23.010744</td>\n",
       "      <td>3086396.0</td>\n",
       "      <td>2146623.0</td>\n",
       "      <td>1044</td>\n",
       "      <td>2189</td>\n",
       "      <td>30529</td>\n",
       "      <td>20170219</td>\n",
       "    </tr>\n",
       "  </tbody>\n",
       "</table>\n",
       "</div>"
      ],
      "text/plain": [
       "            ArrTime   TweetLen          RT         Fav  PosWords  NegWords  \\\n",
       "Timestamp                                                                    \n",
       "20160926   0.933233  23.873653   5985811.0   5013764.0      6026      2391   \n",
       "20160927   1.685801  24.402781   9200130.0   8175263.0      7593      6838   \n",
       "20161003   2.255713  24.223281  62567286.0  48757933.0     17581     14317   \n",
       "20161005   2.320443  24.332754  15339818.0  11324840.0     13033      2482   \n",
       "20170103   1.809688  24.905600   6333060.0   4055694.0      1891      2234   \n",
       "20170104   1.582464  25.201869  16278093.0  17012411.0      1300      3646   \n",
       "20170219   0.944512  23.010744   3086396.0   2146623.0      1044      2189   \n",
       "\n",
       "           Tweets     Dates  \n",
       "Timestamp                    \n",
       "20160926   124673  20160926  \n",
       "20160927    94771  20160927  \n",
       "20161003   284381  20161003  \n",
       "20161005   132404  20161005  \n",
       "20170103    47606  20170103  \n",
       "20170104    43340  20170104  \n",
       "20170219    30529  20170219  "
      ]
     },
     "execution_count": 127,
     "metadata": {},
     "output_type": "execute_result"
    }
   ],
   "source": [
    "twitter_df[twitter_df.NegWords >= 2e3]"
   ]
  },
  {
   "cell_type": "code",
   "execution_count": 128,
   "metadata": {
    "collapsed": false
   },
   "outputs": [
    {
     "data": {
      "text/html": [
       "<div>\n",
       "<table border=\"1\" class=\"dataframe\">\n",
       "  <thead>\n",
       "    <tr style=\"text-align: right;\">\n",
       "      <th></th>\n",
       "      <th>ArrTime</th>\n",
       "      <th>TweetLen</th>\n",
       "      <th>RT</th>\n",
       "      <th>Fav</th>\n",
       "      <th>PosWords</th>\n",
       "      <th>NegWords</th>\n",
       "      <th>Tweets</th>\n",
       "      <th>Dates</th>\n",
       "    </tr>\n",
       "    <tr>\n",
       "      <th>Timestamp</th>\n",
       "      <th></th>\n",
       "      <th></th>\n",
       "      <th></th>\n",
       "      <th></th>\n",
       "      <th></th>\n",
       "      <th></th>\n",
       "      <th></th>\n",
       "      <th></th>\n",
       "    </tr>\n",
       "  </thead>\n",
       "  <tbody>\n",
       "    <tr>\n",
       "      <th>20161003</th>\n",
       "      <td>2.255713</td>\n",
       "      <td>24.223281</td>\n",
       "      <td>62567286.0</td>\n",
       "      <td>48757933.0</td>\n",
       "      <td>17581</td>\n",
       "      <td>14317</td>\n",
       "      <td>284381</td>\n",
       "      <td>20161003</td>\n",
       "    </tr>\n",
       "  </tbody>\n",
       "</table>\n",
       "</div>"
      ],
      "text/plain": [
       "            ArrTime   TweetLen          RT         Fav  PosWords  NegWords  \\\n",
       "Timestamp                                                                    \n",
       "20161003   2.255713  24.223281  62567286.0  48757933.0     17581     14317   \n",
       "\n",
       "           Tweets     Dates  \n",
       "Timestamp                    \n",
       "20161003   284381  20161003  "
      ]
     },
     "execution_count": 128,
     "metadata": {},
     "output_type": "execute_result"
    }
   ],
   "source": [
    "twitter_df[twitter_df.NegWords == twitter_df.NegWords.max()]"
   ]
  },
  {
   "cell_type": "markdown",
   "metadata": {},
   "source": [
    "# Perceived Importance"
   ]
  },
  {
   "cell_type": "code",
   "execution_count": 129,
   "metadata": {
    "collapsed": false
   },
   "outputs": [
    {
     "ename": "AttributeError",
     "evalue": "'DataFrame' object has no attribute 'PI'",
     "output_type": "error",
     "traceback": [
      "\u001b[1;31m---------------------------------------------------------------------------\u001b[0m",
      "\u001b[1;31mAttributeError\u001b[0m                            Traceback (most recent call last)",
      "\u001b[1;32m<ipython-input-129-b8429991a7b0>\u001b[0m in \u001b[0;36m<module>\u001b[1;34m()\u001b[0m\n\u001b[1;32m----> 1\u001b[1;33m \u001b[0mplt\u001b[0m\u001b[1;33m.\u001b[0m\u001b[0mplot\u001b[0m\u001b[1;33m(\u001b[0m\u001b[0mlist\u001b[0m\u001b[1;33m(\u001b[0m\u001b[0mtwitter_df\u001b[0m\u001b[1;33m.\u001b[0m\u001b[0mPI\u001b[0m\u001b[1;33m)\u001b[0m\u001b[1;33m)\u001b[0m\u001b[1;33m\u001b[0m\u001b[0m\n\u001b[0m",
      "\u001b[1;32mC:\\Anaconda3\\lib\\site-packages\\pandas\\core\\generic.py\u001b[0m in \u001b[0;36m__getattr__\u001b[1;34m(self, name)\u001b[0m\n\u001b[0;32m   2670\u001b[0m             \u001b[1;32mif\u001b[0m \u001b[0mname\u001b[0m \u001b[1;32min\u001b[0m \u001b[0mself\u001b[0m\u001b[1;33m.\u001b[0m\u001b[0m_info_axis\u001b[0m\u001b[1;33m:\u001b[0m\u001b[1;33m\u001b[0m\u001b[0m\n\u001b[0;32m   2671\u001b[0m                 \u001b[1;32mreturn\u001b[0m \u001b[0mself\u001b[0m\u001b[1;33m[\u001b[0m\u001b[0mname\u001b[0m\u001b[1;33m]\u001b[0m\u001b[1;33m\u001b[0m\u001b[0m\n\u001b[1;32m-> 2672\u001b[1;33m             \u001b[1;32mreturn\u001b[0m \u001b[0mobject\u001b[0m\u001b[1;33m.\u001b[0m\u001b[0m__getattribute__\u001b[0m\u001b[1;33m(\u001b[0m\u001b[0mself\u001b[0m\u001b[1;33m,\u001b[0m \u001b[0mname\u001b[0m\u001b[1;33m)\u001b[0m\u001b[1;33m\u001b[0m\u001b[0m\n\u001b[0m\u001b[0;32m   2673\u001b[0m \u001b[1;33m\u001b[0m\u001b[0m\n\u001b[0;32m   2674\u001b[0m     \u001b[1;32mdef\u001b[0m \u001b[0m__setattr__\u001b[0m\u001b[1;33m(\u001b[0m\u001b[0mself\u001b[0m\u001b[1;33m,\u001b[0m \u001b[0mname\u001b[0m\u001b[1;33m,\u001b[0m \u001b[0mvalue\u001b[0m\u001b[1;33m)\u001b[0m\u001b[1;33m:\u001b[0m\u001b[1;33m\u001b[0m\u001b[0m\n",
      "\u001b[1;31mAttributeError\u001b[0m: 'DataFrame' object has no attribute 'PI'"
     ]
    }
   ],
   "source": [
    "plt.plot(list(twitter_df.PI))"
   ]
  },
  {
   "cell_type": "code",
   "execution_count": 130,
   "metadata": {
    "collapsed": false
   },
   "outputs": [
    {
     "ename": "AttributeError",
     "evalue": "'DataFrame' object has no attribute 'PI'",
     "output_type": "error",
     "traceback": [
      "\u001b[1;31m---------------------------------------------------------------------------\u001b[0m",
      "\u001b[1;31mAttributeError\u001b[0m                            Traceback (most recent call last)",
      "\u001b[1;32m<ipython-input-130-b198fa0d8085>\u001b[0m in \u001b[0;36m<module>\u001b[1;34m()\u001b[0m\n\u001b[1;32m----> 1\u001b[1;33m \u001b[0mtwitter_df\u001b[0m\u001b[1;33m[\u001b[0m\u001b[0mtwitter_df\u001b[0m\u001b[1;33m.\u001b[0m\u001b[0mPI\u001b[0m \u001b[1;33m>=\u001b[0m \u001b[1;36m10\u001b[0m\u001b[1;33m]\u001b[0m\u001b[1;33m\u001b[0m\u001b[0m\n\u001b[0m",
      "\u001b[1;32mC:\\Anaconda3\\lib\\site-packages\\pandas\\core\\generic.py\u001b[0m in \u001b[0;36m__getattr__\u001b[1;34m(self, name)\u001b[0m\n\u001b[0;32m   2670\u001b[0m             \u001b[1;32mif\u001b[0m \u001b[0mname\u001b[0m \u001b[1;32min\u001b[0m \u001b[0mself\u001b[0m\u001b[1;33m.\u001b[0m\u001b[0m_info_axis\u001b[0m\u001b[1;33m:\u001b[0m\u001b[1;33m\u001b[0m\u001b[0m\n\u001b[0;32m   2671\u001b[0m                 \u001b[1;32mreturn\u001b[0m \u001b[0mself\u001b[0m\u001b[1;33m[\u001b[0m\u001b[0mname\u001b[0m\u001b[1;33m]\u001b[0m\u001b[1;33m\u001b[0m\u001b[0m\n\u001b[1;32m-> 2672\u001b[1;33m             \u001b[1;32mreturn\u001b[0m \u001b[0mobject\u001b[0m\u001b[1;33m.\u001b[0m\u001b[0m__getattribute__\u001b[0m\u001b[1;33m(\u001b[0m\u001b[0mself\u001b[0m\u001b[1;33m,\u001b[0m \u001b[0mname\u001b[0m\u001b[1;33m)\u001b[0m\u001b[1;33m\u001b[0m\u001b[0m\n\u001b[0m\u001b[0;32m   2673\u001b[0m \u001b[1;33m\u001b[0m\u001b[0m\n\u001b[0;32m   2674\u001b[0m     \u001b[1;32mdef\u001b[0m \u001b[0m__setattr__\u001b[0m\u001b[1;33m(\u001b[0m\u001b[0mself\u001b[0m\u001b[1;33m,\u001b[0m \u001b[0mname\u001b[0m\u001b[1;33m,\u001b[0m \u001b[0mvalue\u001b[0m\u001b[1;33m)\u001b[0m\u001b[1;33m:\u001b[0m\u001b[1;33m\u001b[0m\u001b[0m\n",
      "\u001b[1;31mAttributeError\u001b[0m: 'DataFrame' object has no attribute 'PI'"
     ]
    }
   ],
   "source": [
    "twitter_df[twitter_df.PI >= 10]"
   ]
  },
  {
   "cell_type": "code",
   "execution_count": 29,
   "metadata": {
    "collapsed": true
   },
   "outputs": [],
   "source": [
    "del twitter_data"
   ]
  },
  {
   "cell_type": "markdown",
   "metadata": {},
   "source": [
    "# GDELT"
   ]
  },
  {
   "cell_type": "code",
   "execution_count": 131,
   "metadata": {
    "collapsed": false
   },
   "outputs": [
    {
     "name": "stderr",
     "output_type": "stream",
     "text": [
      "C:\\Anaconda3\\lib\\site-packages\\IPython\\core\\interactiveshell.py:2723: DtypeWarning: Columns (10,11,20,21) have mixed types. Specify dtype option on import or set low_memory=False.\n",
      "  interactivity=interactivity, compiler=compiler, result=result)\n"
     ]
    }
   ],
   "source": [
    "events_data = gdelt = pd.read_csv('C:/Users/Administrator/Dropbox/GDELT/events_sep16_aug17.csv').sort_values('SQLDATE', ascending=1)"
   ]
  },
  {
   "cell_type": "code",
   "execution_count": 132,
   "metadata": {
    "collapsed": false
   },
   "outputs": [
    {
     "data": {
      "text/html": [
       "<div>\n",
       "<table border=\"1\" class=\"dataframe\">\n",
       "  <thead>\n",
       "    <tr style=\"text-align: right;\">\n",
       "      <th></th>\n",
       "      <th>GLOBALEVENTID</th>\n",
       "      <th>SQLDATE</th>\n",
       "      <th>MonthYear</th>\n",
       "      <th>Year</th>\n",
       "      <th>FractionDate</th>\n",
       "      <th>Actor1Code</th>\n",
       "      <th>Actor1Name</th>\n",
       "      <th>Actor1CountryCode</th>\n",
       "      <th>Actor1KnownGroupCode</th>\n",
       "      <th>Actor1EthnicCode</th>\n",
       "      <th>...</th>\n",
       "      <th>ActionGeo_Type</th>\n",
       "      <th>ActionGeo_FullName</th>\n",
       "      <th>ActionGeo_CountryCode</th>\n",
       "      <th>ActionGeo_ADM1Code</th>\n",
       "      <th>ActionGeo_ADM2Code</th>\n",
       "      <th>ActionGeo_Lat</th>\n",
       "      <th>ActionGeo_Long</th>\n",
       "      <th>ActionGeo_FeatureID</th>\n",
       "      <th>DATEADDED</th>\n",
       "      <th>SOURCEURL</th>\n",
       "    </tr>\n",
       "  </thead>\n",
       "  <tbody>\n",
       "    <tr>\n",
       "      <th>0</th>\n",
       "      <td>688467575</td>\n",
       "      <td>20160911</td>\n",
       "      <td>201609</td>\n",
       "      <td>2016</td>\n",
       "      <td>2016.6877</td>\n",
       "      <td>COLREB</td>\n",
       "      <td>FARC</td>\n",
       "      <td>COL</td>\n",
       "      <td>NaN</td>\n",
       "      <td>NaN</td>\n",
       "      <td>...</td>\n",
       "      <td>1</td>\n",
       "      <td>Colombia</td>\n",
       "      <td>CO</td>\n",
       "      <td>CO</td>\n",
       "      <td>NaN</td>\n",
       "      <td>4.00000</td>\n",
       "      <td>-72.0000</td>\n",
       "      <td>CO</td>\n",
       "      <td>20170911100000</td>\n",
       "      <td>http://news.trust.org/item/20170911091833-gi928</td>\n",
       "    </tr>\n",
       "    <tr>\n",
       "      <th>32525</th>\n",
       "      <td>577921304</td>\n",
       "      <td>20160911</td>\n",
       "      <td>201609</td>\n",
       "      <td>2016</td>\n",
       "      <td>2016.6877</td>\n",
       "      <td>COLENV</td>\n",
       "      <td>COLOMBIA</td>\n",
       "      <td>COL</td>\n",
       "      <td>NaN</td>\n",
       "      <td>NaN</td>\n",
       "      <td>...</td>\n",
       "      <td>4</td>\n",
       "      <td>Salento, Valle del Cauca, Colombia</td>\n",
       "      <td>CO</td>\n",
       "      <td>CO29</td>\n",
       "      <td>18585</td>\n",
       "      <td>3.62472</td>\n",
       "      <td>-76.4631</td>\n",
       "      <td>6165959</td>\n",
       "      <td>20160911060000</td>\n",
       "      <td>http://www.cronicadelquindio.com/noticia-compl...</td>\n",
       "    </tr>\n",
       "    <tr>\n",
       "      <th>32524</th>\n",
       "      <td>578050856</td>\n",
       "      <td>20160911</td>\n",
       "      <td>201609</td>\n",
       "      <td>2016</td>\n",
       "      <td>2016.6877</td>\n",
       "      <td>COLREB</td>\n",
       "      <td>FARC</td>\n",
       "      <td>COL</td>\n",
       "      <td>NaN</td>\n",
       "      <td>NaN</td>\n",
       "      <td>...</td>\n",
       "      <td>5</td>\n",
       "      <td>Valle Del Cauca, Valle del Cauca, Colombia</td>\n",
       "      <td>CO</td>\n",
       "      <td>CO29</td>\n",
       "      <td>18585</td>\n",
       "      <td>3.75000</td>\n",
       "      <td>-76.5000</td>\n",
       "      <td>-601055</td>\n",
       "      <td>20160911203000</td>\n",
       "      <td>http://www.lapresse.ca/international/amerique-...</td>\n",
       "    </tr>\n",
       "    <tr>\n",
       "      <th>32523</th>\n",
       "      <td>578050855</td>\n",
       "      <td>20160911</td>\n",
       "      <td>201609</td>\n",
       "      <td>2016</td>\n",
       "      <td>2016.6877</td>\n",
       "      <td>COLREB</td>\n",
       "      <td>FARC</td>\n",
       "      <td>COL</td>\n",
       "      <td>NaN</td>\n",
       "      <td>NaN</td>\n",
       "      <td>...</td>\n",
       "      <td>5</td>\n",
       "      <td>Valle Del Cauca, Valle del Cauca, Colombia</td>\n",
       "      <td>CO</td>\n",
       "      <td>CO29</td>\n",
       "      <td>18585</td>\n",
       "      <td>3.75000</td>\n",
       "      <td>-76.5000</td>\n",
       "      <td>-601055</td>\n",
       "      <td>20160911203000</td>\n",
       "      <td>http://www.lapresse.ca/international/amerique-...</td>\n",
       "    </tr>\n",
       "    <tr>\n",
       "      <th>32522</th>\n",
       "      <td>578050854</td>\n",
       "      <td>20160911</td>\n",
       "      <td>201609</td>\n",
       "      <td>2016</td>\n",
       "      <td>2016.6877</td>\n",
       "      <td>COLREB</td>\n",
       "      <td>FARC</td>\n",
       "      <td>COL</td>\n",
       "      <td>NaN</td>\n",
       "      <td>NaN</td>\n",
       "      <td>...</td>\n",
       "      <td>5</td>\n",
       "      <td>Valle Del Cauca, Valle del Cauca, Colombia</td>\n",
       "      <td>CO</td>\n",
       "      <td>CO29</td>\n",
       "      <td>18585</td>\n",
       "      <td>3.75000</td>\n",
       "      <td>-76.5000</td>\n",
       "      <td>-601055</td>\n",
       "      <td>20160911203000</td>\n",
       "      <td>http://www.lapresse.ca/international/amerique-...</td>\n",
       "    </tr>\n",
       "  </tbody>\n",
       "</table>\n",
       "<p>5 rows × 61 columns</p>\n",
       "</div>"
      ],
      "text/plain": [
       "       GLOBALEVENTID   SQLDATE  MonthYear  Year  FractionDate Actor1Code  \\\n",
       "0          688467575  20160911     201609  2016     2016.6877     COLREB   \n",
       "32525      577921304  20160911     201609  2016     2016.6877     COLENV   \n",
       "32524      578050856  20160911     201609  2016     2016.6877     COLREB   \n",
       "32523      578050855  20160911     201609  2016     2016.6877     COLREB   \n",
       "32522      578050854  20160911     201609  2016     2016.6877     COLREB   \n",
       "\n",
       "      Actor1Name Actor1CountryCode  Actor1KnownGroupCode  Actor1EthnicCode  \\\n",
       "0           FARC               COL                   NaN               NaN   \n",
       "32525   COLOMBIA               COL                   NaN               NaN   \n",
       "32524       FARC               COL                   NaN               NaN   \n",
       "32523       FARC               COL                   NaN               NaN   \n",
       "32522       FARC               COL                   NaN               NaN   \n",
       "\n",
       "                             ...                         ActionGeo_Type  \\\n",
       "0                            ...                                      1   \n",
       "32525                        ...                                      4   \n",
       "32524                        ...                                      5   \n",
       "32523                        ...                                      5   \n",
       "32522                        ...                                      5   \n",
       "\n",
       "                               ActionGeo_FullName ActionGeo_CountryCode  \\\n",
       "0                                        Colombia                    CO   \n",
       "32525          Salento, Valle del Cauca, Colombia                    CO   \n",
       "32524  Valle Del Cauca, Valle del Cauca, Colombia                    CO   \n",
       "32523  Valle Del Cauca, Valle del Cauca, Colombia                    CO   \n",
       "32522  Valle Del Cauca, Valle del Cauca, Colombia                    CO   \n",
       "\n",
       "      ActionGeo_ADM1Code  ActionGeo_ADM2Code ActionGeo_Lat ActionGeo_Long  \\\n",
       "0                     CO                 NaN       4.00000       -72.0000   \n",
       "32525               CO29               18585       3.62472       -76.4631   \n",
       "32524               CO29               18585       3.75000       -76.5000   \n",
       "32523               CO29               18585       3.75000       -76.5000   \n",
       "32522               CO29               18585       3.75000       -76.5000   \n",
       "\n",
       "      ActionGeo_FeatureID       DATEADDED  \\\n",
       "0                      CO  20170911100000   \n",
       "32525             6165959  20160911060000   \n",
       "32524             -601055  20160911203000   \n",
       "32523             -601055  20160911203000   \n",
       "32522             -601055  20160911203000   \n",
       "\n",
       "                                               SOURCEURL  \n",
       "0        http://news.trust.org/item/20170911091833-gi928  \n",
       "32525  http://www.cronicadelquindio.com/noticia-compl...  \n",
       "32524  http://www.lapresse.ca/international/amerique-...  \n",
       "32523  http://www.lapresse.ca/international/amerique-...  \n",
       "32522  http://www.lapresse.ca/international/amerique-...  \n",
       "\n",
       "[5 rows x 61 columns]"
      ]
     },
     "execution_count": 132,
     "metadata": {},
     "output_type": "execute_result"
    }
   ],
   "source": [
    "events_data.head()"
   ]
  },
  {
   "cell_type": "code",
   "execution_count": 133,
   "metadata": {
    "collapsed": false
   },
   "outputs": [],
   "source": [
    "#twitter_df = pd.concat([twitter_data.groupby('Timestamp')['ArrTime'].mean(), twitter_data.groupby('Timestamp')['RT', 'Fav'].sum()], axis=1)\n",
    "df1 = events_data.groupby('SQLDATE')['AvgTone','GoldsteinScale'].mean()\n",
    "df2 = events_data.groupby('SQLDATE')['NumMentions','NumSources', 'NumArticles'].sum()"
   ]
  },
  {
   "cell_type": "code",
   "execution_count": 134,
   "metadata": {
    "collapsed": false
   },
   "outputs": [
    {
     "data": {
      "text/html": [
       "<div>\n",
       "<table border=\"1\" class=\"dataframe\">\n",
       "  <thead>\n",
       "    <tr style=\"text-align: right;\">\n",
       "      <th></th>\n",
       "      <th>AvgTone</th>\n",
       "      <th>GoldsteinScale</th>\n",
       "    </tr>\n",
       "    <tr>\n",
       "      <th>SQLDATE</th>\n",
       "      <th></th>\n",
       "      <th></th>\n",
       "    </tr>\n",
       "  </thead>\n",
       "  <tbody>\n",
       "    <tr>\n",
       "      <th>20160911</th>\n",
       "      <td>-0.547192</td>\n",
       "      <td>4.304310</td>\n",
       "    </tr>\n",
       "    <tr>\n",
       "      <th>20160912</th>\n",
       "      <td>-1.960844</td>\n",
       "      <td>3.279487</td>\n",
       "    </tr>\n",
       "    <tr>\n",
       "      <th>20160913</th>\n",
       "      <td>-0.668595</td>\n",
       "      <td>2.845806</td>\n",
       "    </tr>\n",
       "    <tr>\n",
       "      <th>20160914</th>\n",
       "      <td>0.126425</td>\n",
       "      <td>2.770803</td>\n",
       "    </tr>\n",
       "    <tr>\n",
       "      <th>20160915</th>\n",
       "      <td>-0.974327</td>\n",
       "      <td>2.219672</td>\n",
       "    </tr>\n",
       "    <tr>\n",
       "      <th>20160916</th>\n",
       "      <td>-0.215027</td>\n",
       "      <td>2.700000</td>\n",
       "    </tr>\n",
       "    <tr>\n",
       "      <th>20160917</th>\n",
       "      <td>0.133101</td>\n",
       "      <td>2.895050</td>\n",
       "    </tr>\n",
       "    <tr>\n",
       "      <th>20160918</th>\n",
       "      <td>0.154699</td>\n",
       "      <td>2.526724</td>\n",
       "    </tr>\n",
       "    <tr>\n",
       "      <th>20160919</th>\n",
       "      <td>-0.081255</td>\n",
       "      <td>3.193421</td>\n",
       "    </tr>\n",
       "    <tr>\n",
       "      <th>20160920</th>\n",
       "      <td>1.049852</td>\n",
       "      <td>2.916875</td>\n",
       "    </tr>\n",
       "  </tbody>\n",
       "</table>\n",
       "</div>"
      ],
      "text/plain": [
       "           AvgTone  GoldsteinScale\n",
       "SQLDATE                           \n",
       "20160911 -0.547192        4.304310\n",
       "20160912 -1.960844        3.279487\n",
       "20160913 -0.668595        2.845806\n",
       "20160914  0.126425        2.770803\n",
       "20160915 -0.974327        2.219672\n",
       "20160916 -0.215027        2.700000\n",
       "20160917  0.133101        2.895050\n",
       "20160918  0.154699        2.526724\n",
       "20160919 -0.081255        3.193421\n",
       "20160920  1.049852        2.916875"
      ]
     },
     "execution_count": 134,
     "metadata": {},
     "output_type": "execute_result"
    }
   ],
   "source": [
    "df1.head(10)"
   ]
  },
  {
   "cell_type": "code",
   "execution_count": 135,
   "metadata": {
    "collapsed": false
   },
   "outputs": [
    {
     "data": {
      "text/html": [
       "<div>\n",
       "<table border=\"1\" class=\"dataframe\">\n",
       "  <thead>\n",
       "    <tr style=\"text-align: right;\">\n",
       "      <th></th>\n",
       "      <th>NumMentions</th>\n",
       "      <th>NumSources</th>\n",
       "      <th>NumArticles</th>\n",
       "    </tr>\n",
       "    <tr>\n",
       "      <th>SQLDATE</th>\n",
       "      <th></th>\n",
       "      <th></th>\n",
       "      <th></th>\n",
       "    </tr>\n",
       "  </thead>\n",
       "  <tbody>\n",
       "    <tr>\n",
       "      <th>20160911</th>\n",
       "      <td>894</td>\n",
       "      <td>119</td>\n",
       "      <td>808</td>\n",
       "    </tr>\n",
       "    <tr>\n",
       "      <th>20160912</th>\n",
       "      <td>726</td>\n",
       "      <td>124</td>\n",
       "      <td>724</td>\n",
       "    </tr>\n",
       "    <tr>\n",
       "      <th>20160913</th>\n",
       "      <td>1143</td>\n",
       "      <td>163</td>\n",
       "      <td>1059</td>\n",
       "    </tr>\n",
       "    <tr>\n",
       "      <th>20160914</th>\n",
       "      <td>1098</td>\n",
       "      <td>192</td>\n",
       "      <td>1066</td>\n",
       "    </tr>\n",
       "    <tr>\n",
       "      <th>20160915</th>\n",
       "      <td>711</td>\n",
       "      <td>135</td>\n",
       "      <td>707</td>\n",
       "    </tr>\n",
       "    <tr>\n",
       "      <th>20160916</th>\n",
       "      <td>1116</td>\n",
       "      <td>168</td>\n",
       "      <td>1099</td>\n",
       "    </tr>\n",
       "    <tr>\n",
       "      <th>20160917</th>\n",
       "      <td>1543</td>\n",
       "      <td>249</td>\n",
       "      <td>1449</td>\n",
       "    </tr>\n",
       "    <tr>\n",
       "      <th>20160918</th>\n",
       "      <td>812</td>\n",
       "      <td>123</td>\n",
       "      <td>694</td>\n",
       "    </tr>\n",
       "    <tr>\n",
       "      <th>20160919</th>\n",
       "      <td>1115</td>\n",
       "      <td>180</td>\n",
       "      <td>976</td>\n",
       "    </tr>\n",
       "    <tr>\n",
       "      <th>20160920</th>\n",
       "      <td>987</td>\n",
       "      <td>178</td>\n",
       "      <td>941</td>\n",
       "    </tr>\n",
       "  </tbody>\n",
       "</table>\n",
       "</div>"
      ],
      "text/plain": [
       "          NumMentions  NumSources  NumArticles\n",
       "SQLDATE                                       \n",
       "20160911          894         119          808\n",
       "20160912          726         124          724\n",
       "20160913         1143         163         1059\n",
       "20160914         1098         192         1066\n",
       "20160915          711         135          707\n",
       "20160916         1116         168         1099\n",
       "20160917         1543         249         1449\n",
       "20160918          812         123          694\n",
       "20160919         1115         180          976\n",
       "20160920          987         178          941"
      ]
     },
     "execution_count": 135,
     "metadata": {},
     "output_type": "execute_result"
    }
   ],
   "source": [
    "df2.head(10)"
   ]
  },
  {
   "cell_type": "code",
   "execution_count": 136,
   "metadata": {
    "collapsed": false
   },
   "outputs": [
    {
     "data": {
      "text/html": [
       "<div>\n",
       "<table border=\"1\" class=\"dataframe\">\n",
       "  <thead>\n",
       "    <tr style=\"text-align: right;\">\n",
       "      <th></th>\n",
       "      <th>AvgTone</th>\n",
       "      <th>GoldsteinScale</th>\n",
       "      <th>NumMentions</th>\n",
       "      <th>NumSources</th>\n",
       "      <th>NumArticles</th>\n",
       "    </tr>\n",
       "    <tr>\n",
       "      <th>SQLDATE</th>\n",
       "      <th></th>\n",
       "      <th></th>\n",
       "      <th></th>\n",
       "      <th></th>\n",
       "      <th></th>\n",
       "    </tr>\n",
       "  </thead>\n",
       "  <tbody>\n",
       "    <tr>\n",
       "      <th>20160911</th>\n",
       "      <td>-0.547192</td>\n",
       "      <td>4.304310</td>\n",
       "      <td>894</td>\n",
       "      <td>119</td>\n",
       "      <td>808</td>\n",
       "    </tr>\n",
       "    <tr>\n",
       "      <th>20160912</th>\n",
       "      <td>-1.960844</td>\n",
       "      <td>3.279487</td>\n",
       "      <td>726</td>\n",
       "      <td>124</td>\n",
       "      <td>724</td>\n",
       "    </tr>\n",
       "    <tr>\n",
       "      <th>20160913</th>\n",
       "      <td>-0.668595</td>\n",
       "      <td>2.845806</td>\n",
       "      <td>1143</td>\n",
       "      <td>163</td>\n",
       "      <td>1059</td>\n",
       "    </tr>\n",
       "    <tr>\n",
       "      <th>20160914</th>\n",
       "      <td>0.126425</td>\n",
       "      <td>2.770803</td>\n",
       "      <td>1098</td>\n",
       "      <td>192</td>\n",
       "      <td>1066</td>\n",
       "    </tr>\n",
       "    <tr>\n",
       "      <th>20160915</th>\n",
       "      <td>-0.974327</td>\n",
       "      <td>2.219672</td>\n",
       "      <td>711</td>\n",
       "      <td>135</td>\n",
       "      <td>707</td>\n",
       "    </tr>\n",
       "    <tr>\n",
       "      <th>20160916</th>\n",
       "      <td>-0.215027</td>\n",
       "      <td>2.700000</td>\n",
       "      <td>1116</td>\n",
       "      <td>168</td>\n",
       "      <td>1099</td>\n",
       "    </tr>\n",
       "    <tr>\n",
       "      <th>20160917</th>\n",
       "      <td>0.133101</td>\n",
       "      <td>2.895050</td>\n",
       "      <td>1543</td>\n",
       "      <td>249</td>\n",
       "      <td>1449</td>\n",
       "    </tr>\n",
       "    <tr>\n",
       "      <th>20160918</th>\n",
       "      <td>0.154699</td>\n",
       "      <td>2.526724</td>\n",
       "      <td>812</td>\n",
       "      <td>123</td>\n",
       "      <td>694</td>\n",
       "    </tr>\n",
       "    <tr>\n",
       "      <th>20160919</th>\n",
       "      <td>-0.081255</td>\n",
       "      <td>3.193421</td>\n",
       "      <td>1115</td>\n",
       "      <td>180</td>\n",
       "      <td>976</td>\n",
       "    </tr>\n",
       "    <tr>\n",
       "      <th>20160920</th>\n",
       "      <td>1.049852</td>\n",
       "      <td>2.916875</td>\n",
       "      <td>987</td>\n",
       "      <td>178</td>\n",
       "      <td>941</td>\n",
       "    </tr>\n",
       "  </tbody>\n",
       "</table>\n",
       "</div>"
      ],
      "text/plain": [
       "           AvgTone  GoldsteinScale  NumMentions  NumSources  NumArticles\n",
       "SQLDATE                                                                 \n",
       "20160911 -0.547192        4.304310          894         119          808\n",
       "20160912 -1.960844        3.279487          726         124          724\n",
       "20160913 -0.668595        2.845806         1143         163         1059\n",
       "20160914  0.126425        2.770803         1098         192         1066\n",
       "20160915 -0.974327        2.219672          711         135          707\n",
       "20160916 -0.215027        2.700000         1116         168         1099\n",
       "20160917  0.133101        2.895050         1543         249         1449\n",
       "20160918  0.154699        2.526724          812         123          694\n",
       "20160919 -0.081255        3.193421         1115         180          976\n",
       "20160920  1.049852        2.916875          987         178          941"
      ]
     },
     "execution_count": 136,
     "metadata": {},
     "output_type": "execute_result"
    }
   ],
   "source": [
    "events_df = pd.concat([df1,df2], axis=1)\n",
    "#events_df = df2\n",
    "events_df.head(10)"
   ]
  },
  {
   "cell_type": "code",
   "execution_count": 137,
   "metadata": {
    "collapsed": false
   },
   "outputs": [],
   "source": [
    "event_counts = []\n",
    "for date in sorted(list(set(events_data.SQLDATE))):\n",
    "    event_counts.append(len(events_data[events_data.SQLDATE == date]))\n",
    "events_df['Events'] = event_counts"
   ]
  },
  {
   "cell_type": "code",
   "execution_count": 138,
   "metadata": {
    "collapsed": false
   },
   "outputs": [
    {
     "data": {
      "text/html": [
       "<div>\n",
       "<table border=\"1\" class=\"dataframe\">\n",
       "  <thead>\n",
       "    <tr style=\"text-align: right;\">\n",
       "      <th></th>\n",
       "      <th>AvgTone</th>\n",
       "      <th>GoldsteinScale</th>\n",
       "      <th>NumMentions</th>\n",
       "      <th>NumSources</th>\n",
       "      <th>NumArticles</th>\n",
       "      <th>Events</th>\n",
       "    </tr>\n",
       "    <tr>\n",
       "      <th>SQLDATE</th>\n",
       "      <th></th>\n",
       "      <th></th>\n",
       "      <th></th>\n",
       "      <th></th>\n",
       "      <th></th>\n",
       "      <th></th>\n",
       "    </tr>\n",
       "  </thead>\n",
       "  <tbody>\n",
       "    <tr>\n",
       "      <th>20160911</th>\n",
       "      <td>-0.547192</td>\n",
       "      <td>4.304310</td>\n",
       "      <td>894</td>\n",
       "      <td>119</td>\n",
       "      <td>808</td>\n",
       "      <td>116</td>\n",
       "    </tr>\n",
       "    <tr>\n",
       "      <th>20160912</th>\n",
       "      <td>-1.960844</td>\n",
       "      <td>3.279487</td>\n",
       "      <td>726</td>\n",
       "      <td>124</td>\n",
       "      <td>724</td>\n",
       "      <td>117</td>\n",
       "    </tr>\n",
       "    <tr>\n",
       "      <th>20160913</th>\n",
       "      <td>-0.668595</td>\n",
       "      <td>2.845806</td>\n",
       "      <td>1143</td>\n",
       "      <td>163</td>\n",
       "      <td>1059</td>\n",
       "      <td>155</td>\n",
       "    </tr>\n",
       "    <tr>\n",
       "      <th>20160914</th>\n",
       "      <td>0.126425</td>\n",
       "      <td>2.770803</td>\n",
       "      <td>1098</td>\n",
       "      <td>192</td>\n",
       "      <td>1066</td>\n",
       "      <td>137</td>\n",
       "    </tr>\n",
       "    <tr>\n",
       "      <th>20160915</th>\n",
       "      <td>-0.974327</td>\n",
       "      <td>2.219672</td>\n",
       "      <td>711</td>\n",
       "      <td>135</td>\n",
       "      <td>707</td>\n",
       "      <td>122</td>\n",
       "    </tr>\n",
       "    <tr>\n",
       "      <th>20160916</th>\n",
       "      <td>-0.215027</td>\n",
       "      <td>2.700000</td>\n",
       "      <td>1116</td>\n",
       "      <td>168</td>\n",
       "      <td>1099</td>\n",
       "      <td>153</td>\n",
       "    </tr>\n",
       "    <tr>\n",
       "      <th>20160917</th>\n",
       "      <td>0.133101</td>\n",
       "      <td>2.895050</td>\n",
       "      <td>1543</td>\n",
       "      <td>249</td>\n",
       "      <td>1449</td>\n",
       "      <td>202</td>\n",
       "    </tr>\n",
       "    <tr>\n",
       "      <th>20160918</th>\n",
       "      <td>0.154699</td>\n",
       "      <td>2.526724</td>\n",
       "      <td>812</td>\n",
       "      <td>123</td>\n",
       "      <td>694</td>\n",
       "      <td>116</td>\n",
       "    </tr>\n",
       "    <tr>\n",
       "      <th>20160919</th>\n",
       "      <td>-0.081255</td>\n",
       "      <td>3.193421</td>\n",
       "      <td>1115</td>\n",
       "      <td>180</td>\n",
       "      <td>976</td>\n",
       "      <td>152</td>\n",
       "    </tr>\n",
       "    <tr>\n",
       "      <th>20160920</th>\n",
       "      <td>1.049852</td>\n",
       "      <td>2.916875</td>\n",
       "      <td>987</td>\n",
       "      <td>178</td>\n",
       "      <td>941</td>\n",
       "      <td>160</td>\n",
       "    </tr>\n",
       "  </tbody>\n",
       "</table>\n",
       "</div>"
      ],
      "text/plain": [
       "           AvgTone  GoldsteinScale  NumMentions  NumSources  NumArticles  \\\n",
       "SQLDATE                                                                    \n",
       "20160911 -0.547192        4.304310          894         119          808   \n",
       "20160912 -1.960844        3.279487          726         124          724   \n",
       "20160913 -0.668595        2.845806         1143         163         1059   \n",
       "20160914  0.126425        2.770803         1098         192         1066   \n",
       "20160915 -0.974327        2.219672          711         135          707   \n",
       "20160916 -0.215027        2.700000         1116         168         1099   \n",
       "20160917  0.133101        2.895050         1543         249         1449   \n",
       "20160918  0.154699        2.526724          812         123          694   \n",
       "20160919 -0.081255        3.193421         1115         180          976   \n",
       "20160920  1.049852        2.916875          987         178          941   \n",
       "\n",
       "          Events  \n",
       "SQLDATE           \n",
       "20160911     116  \n",
       "20160912     117  \n",
       "20160913     155  \n",
       "20160914     137  \n",
       "20160915     122  \n",
       "20160916     153  \n",
       "20160917     202  \n",
       "20160918     116  \n",
       "20160919     152  \n",
       "20160920     160  "
      ]
     },
     "execution_count": 138,
     "metadata": {},
     "output_type": "execute_result"
    }
   ],
   "source": [
    "events_df.head(10)"
   ]
  },
  {
   "cell_type": "markdown",
   "metadata": {},
   "source": [
    "# GDELT Tone"
   ]
  },
  {
   "cell_type": "code",
   "execution_count": 139,
   "metadata": {
    "collapsed": false
   },
   "outputs": [
    {
     "data": {
      "text/plain": [
       "[<matplotlib.lines.Line2D at 0x8662cecfd0>]"
      ]
     },
     "execution_count": 139,
     "metadata": {},
     "output_type": "execute_result"
    },
    {
     "data": {
      "image/png": "[encoded data removed]",
      "text/plain": [
       "<matplotlib.figure.Figure at 0x8662b9cf60>"
      ]
     },
     "metadata": {},
     "output_type": "display_data"
    }
   ],
   "source": [
    "plt.plot(list(events_df.AvgTone))\n",
    "#plt.yscale('log')"
   ]
  },
  {
   "cell_type": "code",
   "execution_count": 141,
   "metadata": {
    "collapsed": false
   },
   "outputs": [
    {
     "data": {
      "text/html": [
       "<div>\n",
       "<table border=\"1\" class=\"dataframe\">\n",
       "  <thead>\n",
       "    <tr style=\"text-align: right;\">\n",
       "      <th></th>\n",
       "      <th>AvgTone</th>\n",
       "      <th>GoldsteinScale</th>\n",
       "      <th>NumMentions</th>\n",
       "      <th>NumSources</th>\n",
       "      <th>NumArticles</th>\n",
       "      <th>Events</th>\n",
       "    </tr>\n",
       "    <tr>\n",
       "      <th>SQLDATE</th>\n",
       "      <th></th>\n",
       "      <th></th>\n",
       "      <th></th>\n",
       "      <th></th>\n",
       "      <th></th>\n",
       "      <th></th>\n",
       "    </tr>\n",
       "  </thead>\n",
       "  <tbody>\n",
       "    <tr>\n",
       "      <th>20161007</th>\n",
       "      <td>2.059901</td>\n",
       "      <td>2.140568</td>\n",
       "      <td>3731</td>\n",
       "      <td>631</td>\n",
       "      <td>3399</td>\n",
       "      <td>493</td>\n",
       "    </tr>\n",
       "    <tr>\n",
       "      <th>20161008</th>\n",
       "      <td>3.278853</td>\n",
       "      <td>2.229044</td>\n",
       "      <td>1786</td>\n",
       "      <td>306</td>\n",
       "      <td>1761</td>\n",
       "      <td>272</td>\n",
       "    </tr>\n",
       "    <tr>\n",
       "      <th>20161103</th>\n",
       "      <td>2.376222</td>\n",
       "      <td>2.419091</td>\n",
       "      <td>763</td>\n",
       "      <td>133</td>\n",
       "      <td>731</td>\n",
       "      <td>110</td>\n",
       "    </tr>\n",
       "    <tr>\n",
       "      <th>20161113</th>\n",
       "      <td>2.260703</td>\n",
       "      <td>2.938403</td>\n",
       "      <td>2256</td>\n",
       "      <td>284</td>\n",
       "      <td>1984</td>\n",
       "      <td>263</td>\n",
       "    </tr>\n",
       "    <tr>\n",
       "      <th>20170722</th>\n",
       "      <td>2.736637</td>\n",
       "      <td>2.972340</td>\n",
       "      <td>303</td>\n",
       "      <td>47</td>\n",
       "      <td>291</td>\n",
       "      <td>47</td>\n",
       "    </tr>\n",
       "    <tr>\n",
       "      <th>20170402</th>\n",
       "      <td>-5.245687</td>\n",
       "      <td>0.393373</td>\n",
       "      <td>1014</td>\n",
       "      <td>211</td>\n",
       "      <td>987</td>\n",
       "      <td>166</td>\n",
       "    </tr>\n",
       "    <tr>\n",
       "      <th>20170414</th>\n",
       "      <td>-5.122555</td>\n",
       "      <td>-0.268421</td>\n",
       "      <td>108</td>\n",
       "      <td>26</td>\n",
       "      <td>108</td>\n",
       "      <td>19</td>\n",
       "    </tr>\n",
       "    <tr>\n",
       "      <th>20170618</th>\n",
       "      <td>-6.227075</td>\n",
       "      <td>-0.730088</td>\n",
       "      <td>695</td>\n",
       "      <td>134</td>\n",
       "      <td>661</td>\n",
       "      <td>113</td>\n",
       "    </tr>\n",
       "    <tr>\n",
       "      <th>20170824</th>\n",
       "      <td>-5.488201</td>\n",
       "      <td>1.294286</td>\n",
       "      <td>245</td>\n",
       "      <td>45</td>\n",
       "      <td>245</td>\n",
       "      <td>35</td>\n",
       "    </tr>\n",
       "  </tbody>\n",
       "</table>\n",
       "</div>"
      ],
      "text/plain": [
       "           AvgTone  GoldsteinScale  NumMentions  NumSources  NumArticles  \\\n",
       "SQLDATE                                                                    \n",
       "20161007  2.059901        2.140568         3731         631         3399   \n",
       "20161008  3.278853        2.229044         1786         306         1761   \n",
       "20161103  2.376222        2.419091          763         133          731   \n",
       "20161113  2.260703        2.938403         2256         284         1984   \n",
       "20170722  2.736637        2.972340          303          47          291   \n",
       "20170402 -5.245687        0.393373         1014         211          987   \n",
       "20170414 -5.122555       -0.268421          108          26          108   \n",
       "20170618 -6.227075       -0.730088          695         134          661   \n",
       "20170824 -5.488201        1.294286          245          45          245   \n",
       "\n",
       "          Events  \n",
       "SQLDATE           \n",
       "20161007     493  \n",
       "20161008     272  \n",
       "20161103     110  \n",
       "20161113     263  \n",
       "20170722      47  \n",
       "20170402     166  \n",
       "20170414      19  \n",
       "20170618     113  \n",
       "20170824      35  "
      ]
     },
     "execution_count": 141,
     "metadata": {},
     "output_type": "execute_result"
    }
   ],
   "source": [
    "pd.concat([events_df[events_df['AvgTone'] >= 2], events_df[events_df['AvgTone'] <= -5]])"
   ]
  },
  {
   "cell_type": "code",
   "execution_count": 40,
   "metadata": {
    "collapsed": false
   },
   "outputs": [
    {
     "data": {
      "text/plain": [
       "count    355.000000\n",
       "mean      -1.234595\n",
       "std        1.343164\n",
       "min       -6.227075\n",
       "25%       -2.133996\n",
       "50%       -1.314852\n",
       "75%       -0.316048\n",
       "max        3.278853\n",
       "Name: AvgTone, dtype: float64"
      ]
     },
     "execution_count": 40,
     "metadata": {},
     "output_type": "execute_result"
    }
   ],
   "source": [
    "events_df.AvgTone.describe()"
   ]
  },
  {
   "cell_type": "markdown",
   "metadata": {},
   "source": [
    "# Goldstein Scale"
   ]
  },
  {
   "cell_type": "code",
   "execution_count": 41,
   "metadata": {
    "collapsed": false
   },
   "outputs": [
    {
     "data": {
      "text/plain": [
       "[<matplotlib.lines.Line2D at 0x8603614908>]"
      ]
     },
     "execution_count": 41,
     "metadata": {},
     "output_type": "execute_result"
    },
    {
     "data": {
      "image/png": "[encoded data removed]",
      "text/plain": [
       "<matplotlib.figure.Figure at 0x8603571b70>"
      ]
     },
     "metadata": {},
     "output_type": "display_data"
    }
   ],
   "source": [
    "plt.plot(list(events_df.GoldsteinScale))"
   ]
  },
  {
   "cell_type": "code",
   "execution_count": 42,
   "metadata": {
    "collapsed": false
   },
   "outputs": [
    {
     "data": {
      "text/html": [
       "<div>\n",
       "<table border=\"1\" class=\"dataframe\">\n",
       "  <thead>\n",
       "    <tr style=\"text-align: right;\">\n",
       "      <th></th>\n",
       "      <th>AvgTone</th>\n",
       "      <th>GoldsteinScale</th>\n",
       "      <th>NumMentions</th>\n",
       "      <th>NumSources</th>\n",
       "      <th>NumArticles</th>\n",
       "      <th>Events</th>\n",
       "    </tr>\n",
       "    <tr>\n",
       "      <th>SQLDATE</th>\n",
       "      <th></th>\n",
       "      <th></th>\n",
       "      <th></th>\n",
       "      <th></th>\n",
       "      <th></th>\n",
       "      <th></th>\n",
       "    </tr>\n",
       "  </thead>\n",
       "  <tbody>\n",
       "    <tr>\n",
       "      <th>20160911</th>\n",
       "      <td>-0.547192</td>\n",
       "      <td>4.304310</td>\n",
       "      <td>894</td>\n",
       "      <td>119</td>\n",
       "      <td>808</td>\n",
       "      <td>116</td>\n",
       "    </tr>\n",
       "    <tr>\n",
       "      <th>20161202</th>\n",
       "      <td>1.298378</td>\n",
       "      <td>3.935664</td>\n",
       "      <td>797</td>\n",
       "      <td>152</td>\n",
       "      <td>779</td>\n",
       "      <td>143</td>\n",
       "    </tr>\n",
       "    <tr>\n",
       "      <th>20170711</th>\n",
       "      <td>-1.586189</td>\n",
       "      <td>3.809804</td>\n",
       "      <td>322</td>\n",
       "      <td>52</td>\n",
       "      <td>308</td>\n",
       "      <td>51</td>\n",
       "    </tr>\n",
       "    <tr>\n",
       "      <th>20170829</th>\n",
       "      <td>0.346320</td>\n",
       "      <td>5.500000</td>\n",
       "      <td>28</td>\n",
       "      <td>4</td>\n",
       "      <td>28</td>\n",
       "      <td>4</td>\n",
       "    </tr>\n",
       "    <tr>\n",
       "      <th>20170116</th>\n",
       "      <td>-1.395300</td>\n",
       "      <td>-1.089655</td>\n",
       "      <td>173</td>\n",
       "      <td>30</td>\n",
       "      <td>169</td>\n",
       "      <td>29</td>\n",
       "    </tr>\n",
       "    <tr>\n",
       "      <th>20170415</th>\n",
       "      <td>-3.073697</td>\n",
       "      <td>-1.540000</td>\n",
       "      <td>129</td>\n",
       "      <td>24</td>\n",
       "      <td>129</td>\n",
       "      <td>15</td>\n",
       "    </tr>\n",
       "  </tbody>\n",
       "</table>\n",
       "</div>"
      ],
      "text/plain": [
       "           AvgTone  GoldsteinScale  NumMentions  NumSources  NumArticles  \\\n",
       "SQLDATE                                                                    \n",
       "20160911 -0.547192        4.304310          894         119          808   \n",
       "20161202  1.298378        3.935664          797         152          779   \n",
       "20170711 -1.586189        3.809804          322          52          308   \n",
       "20170829  0.346320        5.500000           28           4           28   \n",
       "20170116 -1.395300       -1.089655          173          30          169   \n",
       "20170415 -3.073697       -1.540000          129          24          129   \n",
       "\n",
       "          Events  \n",
       "SQLDATE           \n",
       "20160911     116  \n",
       "20161202     143  \n",
       "20170711      51  \n",
       "20170829       4  \n",
       "20170116      29  \n",
       "20170415      15  "
      ]
     },
     "execution_count": 42,
     "metadata": {},
     "output_type": "execute_result"
    }
   ],
   "source": [
    "pd.concat([events_df[events_df['GoldsteinScale'] >= 3.8], events_df[events_df['GoldsteinScale'] <=-1]])"
   ]
  },
  {
   "cell_type": "code",
   "execution_count": 43,
   "metadata": {
    "collapsed": false
   },
   "outputs": [
    {
     "data": {
      "text/plain": [
       "count    355.000000\n",
       "mean       1.905438\n",
       "std        0.956548\n",
       "min       -1.540000\n",
       "25%        1.347093\n",
       "50%        2.015766\n",
       "75%        2.537977\n",
       "max        5.500000\n",
       "Name: GoldsteinScale, dtype: float64"
      ]
     },
     "execution_count": 43,
     "metadata": {},
     "output_type": "execute_result"
    }
   ],
   "source": [
    "events_df.GoldsteinScale.describe()"
   ]
  },
  {
   "cell_type": "markdown",
   "metadata": {},
   "source": [
    "# NumMentions"
   ]
  },
  {
   "cell_type": "code",
   "execution_count": 44,
   "metadata": {
    "collapsed": false
   },
   "outputs": [
    {
     "data": {
      "text/plain": [
       "[<matplotlib.lines.Line2D at 0x860368b5c0>]"
      ]
     },
     "execution_count": 44,
     "metadata": {},
     "output_type": "execute_result"
    },
    {
     "data": {
      "image/png": "[encoded data removed]",
      "text/plain": [
       "<matplotlib.figure.Figure at 0x8603640a90>"
      ]
     },
     "metadata": {},
     "output_type": "display_data"
    }
   ],
   "source": [
    "plt.plot(list(events_df.NumMentions))"
   ]
  },
  {
   "cell_type": "code",
   "execution_count": 45,
   "metadata": {
    "collapsed": false
   },
   "outputs": [
    {
     "data": {
      "text/html": [
       "<div>\n",
       "<table border=\"1\" class=\"dataframe\">\n",
       "  <thead>\n",
       "    <tr style=\"text-align: right;\">\n",
       "      <th></th>\n",
       "      <th>AvgTone</th>\n",
       "      <th>GoldsteinScale</th>\n",
       "      <th>NumMentions</th>\n",
       "      <th>NumSources</th>\n",
       "      <th>NumArticles</th>\n",
       "      <th>Events</th>\n",
       "    </tr>\n",
       "    <tr>\n",
       "      <th>SQLDATE</th>\n",
       "      <th></th>\n",
       "      <th></th>\n",
       "      <th></th>\n",
       "      <th></th>\n",
       "      <th></th>\n",
       "      <th></th>\n",
       "    </tr>\n",
       "  </thead>\n",
       "  <tbody>\n",
       "    <tr>\n",
       "      <th>20160926</th>\n",
       "      <td>0.768593</td>\n",
       "      <td>3.603692</td>\n",
       "      <td>4130</td>\n",
       "      <td>728</td>\n",
       "      <td>3905</td>\n",
       "      <td>650</td>\n",
       "    </tr>\n",
       "    <tr>\n",
       "      <th>20160927</th>\n",
       "      <td>0.055893</td>\n",
       "      <td>3.062816</td>\n",
       "      <td>5156</td>\n",
       "      <td>858</td>\n",
       "      <td>4760</td>\n",
       "      <td>632</td>\n",
       "    </tr>\n",
       "    <tr>\n",
       "      <th>20161002</th>\n",
       "      <td>-0.517625</td>\n",
       "      <td>2.225249</td>\n",
       "      <td>2392</td>\n",
       "      <td>336</td>\n",
       "      <td>2260</td>\n",
       "      <td>301</td>\n",
       "    </tr>\n",
       "    <tr>\n",
       "      <th>20161003</th>\n",
       "      <td>-0.536448</td>\n",
       "      <td>1.315686</td>\n",
       "      <td>5852</td>\n",
       "      <td>834</td>\n",
       "      <td>5533</td>\n",
       "      <td>765</td>\n",
       "    </tr>\n",
       "    <tr>\n",
       "      <th>20161004</th>\n",
       "      <td>0.148161</td>\n",
       "      <td>1.759144</td>\n",
       "      <td>3523</td>\n",
       "      <td>550</td>\n",
       "      <td>3259</td>\n",
       "      <td>514</td>\n",
       "    </tr>\n",
       "    <tr>\n",
       "      <th>20161005</th>\n",
       "      <td>0.057687</td>\n",
       "      <td>1.697832</td>\n",
       "      <td>2390</td>\n",
       "      <td>400</td>\n",
       "      <td>2225</td>\n",
       "      <td>369</td>\n",
       "    </tr>\n",
       "    <tr>\n",
       "      <th>20161006</th>\n",
       "      <td>-0.421545</td>\n",
       "      <td>1.908672</td>\n",
       "      <td>2207</td>\n",
       "      <td>416</td>\n",
       "      <td>2056</td>\n",
       "      <td>369</td>\n",
       "    </tr>\n",
       "    <tr>\n",
       "      <th>20161007</th>\n",
       "      <td>2.059901</td>\n",
       "      <td>2.140568</td>\n",
       "      <td>3731</td>\n",
       "      <td>631</td>\n",
       "      <td>3399</td>\n",
       "      <td>493</td>\n",
       "    </tr>\n",
       "    <tr>\n",
       "      <th>20161113</th>\n",
       "      <td>2.260703</td>\n",
       "      <td>2.938403</td>\n",
       "      <td>2256</td>\n",
       "      <td>284</td>\n",
       "      <td>1984</td>\n",
       "      <td>263</td>\n",
       "    </tr>\n",
       "    <tr>\n",
       "      <th>20161122</th>\n",
       "      <td>1.084698</td>\n",
       "      <td>2.301515</td>\n",
       "      <td>2068</td>\n",
       "      <td>277</td>\n",
       "      <td>1918</td>\n",
       "      <td>198</td>\n",
       "    </tr>\n",
       "    <tr>\n",
       "      <th>20161123</th>\n",
       "      <td>0.293193</td>\n",
       "      <td>2.071103</td>\n",
       "      <td>2165</td>\n",
       "      <td>342</td>\n",
       "      <td>2038</td>\n",
       "      <td>263</td>\n",
       "    </tr>\n",
       "    <tr>\n",
       "      <th>20161124</th>\n",
       "      <td>0.165741</td>\n",
       "      <td>3.124648</td>\n",
       "      <td>2238</td>\n",
       "      <td>320</td>\n",
       "      <td>2071</td>\n",
       "      <td>284</td>\n",
       "    </tr>\n",
       "  </tbody>\n",
       "</table>\n",
       "</div>"
      ],
      "text/plain": [
       "           AvgTone  GoldsteinScale  NumMentions  NumSources  NumArticles  \\\n",
       "SQLDATE                                                                    \n",
       "20160926  0.768593        3.603692         4130         728         3905   \n",
       "20160927  0.055893        3.062816         5156         858         4760   \n",
       "20161002 -0.517625        2.225249         2392         336         2260   \n",
       "20161003 -0.536448        1.315686         5852         834         5533   \n",
       "20161004  0.148161        1.759144         3523         550         3259   \n",
       "20161005  0.057687        1.697832         2390         400         2225   \n",
       "20161006 -0.421545        1.908672         2207         416         2056   \n",
       "20161007  2.059901        2.140568         3731         631         3399   \n",
       "20161113  2.260703        2.938403         2256         284         1984   \n",
       "20161122  1.084698        2.301515         2068         277         1918   \n",
       "20161123  0.293193        2.071103         2165         342         2038   \n",
       "20161124  0.165741        3.124648         2238         320         2071   \n",
       "\n",
       "          Events  \n",
       "SQLDATE           \n",
       "20160926     650  \n",
       "20160927     632  \n",
       "20161002     301  \n",
       "20161003     765  \n",
       "20161004     514  \n",
       "20161005     369  \n",
       "20161006     369  \n",
       "20161007     493  \n",
       "20161113     263  \n",
       "20161122     198  \n",
       "20161123     263  \n",
       "20161124     284  "
      ]
     },
     "execution_count": 45,
     "metadata": {},
     "output_type": "execute_result"
    }
   ],
   "source": [
    "events_df[events_df['NumMentions'] >= 2000]"
   ]
  },
  {
   "cell_type": "markdown",
   "metadata": {},
   "source": [
    "# NumSources"
   ]
  },
  {
   "cell_type": "code",
   "execution_count": 46,
   "metadata": {
    "collapsed": false
   },
   "outputs": [
    {
     "data": {
      "text/plain": [
       "[<matplotlib.lines.Line2D at 0x86036f4e80>]"
      ]
     },
     "execution_count": 46,
     "metadata": {},
     "output_type": "execute_result"
    },
    {
     "data": {
      "image/png": "[encoded data removed]",
      "text/plain": [
       "<matplotlib.figure.Figure at 0x860369b780>"
      ]
     },
     "metadata": {},
     "output_type": "display_data"
    }
   ],
   "source": [
    "plt.plot(list(events_df.NumSources))"
   ]
  },
  {
   "cell_type": "code",
   "execution_count": 47,
   "metadata": {
    "collapsed": false
   },
   "outputs": [
    {
     "data": {
      "text/html": [
       "<div>\n",
       "<table border=\"1\" class=\"dataframe\">\n",
       "  <thead>\n",
       "    <tr style=\"text-align: right;\">\n",
       "      <th></th>\n",
       "      <th>AvgTone</th>\n",
       "      <th>GoldsteinScale</th>\n",
       "      <th>NumMentions</th>\n",
       "      <th>NumSources</th>\n",
       "      <th>NumArticles</th>\n",
       "      <th>Events</th>\n",
       "    </tr>\n",
       "    <tr>\n",
       "      <th>SQLDATE</th>\n",
       "      <th></th>\n",
       "      <th></th>\n",
       "      <th></th>\n",
       "      <th></th>\n",
       "      <th></th>\n",
       "      <th></th>\n",
       "    </tr>\n",
       "  </thead>\n",
       "  <tbody>\n",
       "    <tr>\n",
       "      <th>20160926</th>\n",
       "      <td>0.768593</td>\n",
       "      <td>3.603692</td>\n",
       "      <td>4130</td>\n",
       "      <td>728</td>\n",
       "      <td>3905</td>\n",
       "      <td>650</td>\n",
       "    </tr>\n",
       "    <tr>\n",
       "      <th>20160927</th>\n",
       "      <td>0.055893</td>\n",
       "      <td>3.062816</td>\n",
       "      <td>5156</td>\n",
       "      <td>858</td>\n",
       "      <td>4760</td>\n",
       "      <td>632</td>\n",
       "    </tr>\n",
       "    <tr>\n",
       "      <th>20160928</th>\n",
       "      <td>-0.210844</td>\n",
       "      <td>3.220205</td>\n",
       "      <td>1797</td>\n",
       "      <td>315</td>\n",
       "      <td>1734</td>\n",
       "      <td>292</td>\n",
       "    </tr>\n",
       "    <tr>\n",
       "      <th>20161002</th>\n",
       "      <td>-0.517625</td>\n",
       "      <td>2.225249</td>\n",
       "      <td>2392</td>\n",
       "      <td>336</td>\n",
       "      <td>2260</td>\n",
       "      <td>301</td>\n",
       "    </tr>\n",
       "    <tr>\n",
       "      <th>20161003</th>\n",
       "      <td>-0.536448</td>\n",
       "      <td>1.315686</td>\n",
       "      <td>5852</td>\n",
       "      <td>834</td>\n",
       "      <td>5533</td>\n",
       "      <td>765</td>\n",
       "    </tr>\n",
       "    <tr>\n",
       "      <th>20161004</th>\n",
       "      <td>0.148161</td>\n",
       "      <td>1.759144</td>\n",
       "      <td>3523</td>\n",
       "      <td>550</td>\n",
       "      <td>3259</td>\n",
       "      <td>514</td>\n",
       "    </tr>\n",
       "    <tr>\n",
       "      <th>20161005</th>\n",
       "      <td>0.057687</td>\n",
       "      <td>1.697832</td>\n",
       "      <td>2390</td>\n",
       "      <td>400</td>\n",
       "      <td>2225</td>\n",
       "      <td>369</td>\n",
       "    </tr>\n",
       "    <tr>\n",
       "      <th>20161006</th>\n",
       "      <td>-0.421545</td>\n",
       "      <td>1.908672</td>\n",
       "      <td>2207</td>\n",
       "      <td>416</td>\n",
       "      <td>2056</td>\n",
       "      <td>369</td>\n",
       "    </tr>\n",
       "    <tr>\n",
       "      <th>20161007</th>\n",
       "      <td>2.059901</td>\n",
       "      <td>2.140568</td>\n",
       "      <td>3731</td>\n",
       "      <td>631</td>\n",
       "      <td>3399</td>\n",
       "      <td>493</td>\n",
       "    </tr>\n",
       "    <tr>\n",
       "      <th>20161008</th>\n",
       "      <td>3.278853</td>\n",
       "      <td>2.229044</td>\n",
       "      <td>1786</td>\n",
       "      <td>306</td>\n",
       "      <td>1761</td>\n",
       "      <td>272</td>\n",
       "    </tr>\n",
       "    <tr>\n",
       "      <th>20161123</th>\n",
       "      <td>0.293193</td>\n",
       "      <td>2.071103</td>\n",
       "      <td>2165</td>\n",
       "      <td>342</td>\n",
       "      <td>2038</td>\n",
       "      <td>263</td>\n",
       "    </tr>\n",
       "    <tr>\n",
       "      <th>20161124</th>\n",
       "      <td>0.165741</td>\n",
       "      <td>3.124648</td>\n",
       "      <td>2238</td>\n",
       "      <td>320</td>\n",
       "      <td>2071</td>\n",
       "      <td>284</td>\n",
       "    </tr>\n",
       "    <tr>\n",
       "      <th>20161125</th>\n",
       "      <td>-0.673362</td>\n",
       "      <td>2.733462</td>\n",
       "      <td>1990</td>\n",
       "      <td>306</td>\n",
       "      <td>1840</td>\n",
       "      <td>260</td>\n",
       "    </tr>\n",
       "  </tbody>\n",
       "</table>\n",
       "</div>"
      ],
      "text/plain": [
       "           AvgTone  GoldsteinScale  NumMentions  NumSources  NumArticles  \\\n",
       "SQLDATE                                                                    \n",
       "20160926  0.768593        3.603692         4130         728         3905   \n",
       "20160927  0.055893        3.062816         5156         858         4760   \n",
       "20160928 -0.210844        3.220205         1797         315         1734   \n",
       "20161002 -0.517625        2.225249         2392         336         2260   \n",
       "20161003 -0.536448        1.315686         5852         834         5533   \n",
       "20161004  0.148161        1.759144         3523         550         3259   \n",
       "20161005  0.057687        1.697832         2390         400         2225   \n",
       "20161006 -0.421545        1.908672         2207         416         2056   \n",
       "20161007  2.059901        2.140568         3731         631         3399   \n",
       "20161008  3.278853        2.229044         1786         306         1761   \n",
       "20161123  0.293193        2.071103         2165         342         2038   \n",
       "20161124  0.165741        3.124648         2238         320         2071   \n",
       "20161125 -0.673362        2.733462         1990         306         1840   \n",
       "\n",
       "          Events  \n",
       "SQLDATE           \n",
       "20160926     650  \n",
       "20160927     632  \n",
       "20160928     292  \n",
       "20161002     301  \n",
       "20161003     765  \n",
       "20161004     514  \n",
       "20161005     369  \n",
       "20161006     369  \n",
       "20161007     493  \n",
       "20161008     272  \n",
       "20161123     263  \n",
       "20161124     284  \n",
       "20161125     260  "
      ]
     },
     "execution_count": 47,
     "metadata": {},
     "output_type": "execute_result"
    }
   ],
   "source": [
    "events_df[events_df['NumSources'] >= 300]"
   ]
  },
  {
   "cell_type": "markdown",
   "metadata": {},
   "source": [
    "# NumArticles"
   ]
  },
  {
   "cell_type": "code",
   "execution_count": 48,
   "metadata": {
    "collapsed": false
   },
   "outputs": [
    {
     "data": {
      "text/plain": [
       "[<matplotlib.lines.Line2D at 0x86a56d5898>]"
      ]
     },
     "execution_count": 48,
     "metadata": {},
     "output_type": "execute_result"
    },
    {
     "data": {
      "image/png": "[encoded data removed]",
      "text/plain": [
       "<matplotlib.figure.Figure at 0x8603662518>"
      ]
     },
     "metadata": {},
     "output_type": "display_data"
    }
   ],
   "source": [
    "plt.plot(list(events_df.NumArticles))"
   ]
  },
  {
   "cell_type": "code",
   "execution_count": 49,
   "metadata": {
    "collapsed": false
   },
   "outputs": [
    {
     "data": {
      "text/html": [
       "<div>\n",
       "<table border=\"1\" class=\"dataframe\">\n",
       "  <thead>\n",
       "    <tr style=\"text-align: right;\">\n",
       "      <th></th>\n",
       "      <th>AvgTone</th>\n",
       "      <th>GoldsteinScale</th>\n",
       "      <th>NumMentions</th>\n",
       "      <th>NumSources</th>\n",
       "      <th>NumArticles</th>\n",
       "      <th>Events</th>\n",
       "    </tr>\n",
       "    <tr>\n",
       "      <th>SQLDATE</th>\n",
       "      <th></th>\n",
       "      <th></th>\n",
       "      <th></th>\n",
       "      <th></th>\n",
       "      <th></th>\n",
       "      <th></th>\n",
       "    </tr>\n",
       "  </thead>\n",
       "  <tbody>\n",
       "    <tr>\n",
       "      <th>20160926</th>\n",
       "      <td>0.768593</td>\n",
       "      <td>3.603692</td>\n",
       "      <td>4130</td>\n",
       "      <td>728</td>\n",
       "      <td>3905</td>\n",
       "      <td>650</td>\n",
       "    </tr>\n",
       "    <tr>\n",
       "      <th>20160927</th>\n",
       "      <td>0.055893</td>\n",
       "      <td>3.062816</td>\n",
       "      <td>5156</td>\n",
       "      <td>858</td>\n",
       "      <td>4760</td>\n",
       "      <td>632</td>\n",
       "    </tr>\n",
       "    <tr>\n",
       "      <th>20161002</th>\n",
       "      <td>-0.517625</td>\n",
       "      <td>2.225249</td>\n",
       "      <td>2392</td>\n",
       "      <td>336</td>\n",
       "      <td>2260</td>\n",
       "      <td>301</td>\n",
       "    </tr>\n",
       "    <tr>\n",
       "      <th>20161003</th>\n",
       "      <td>-0.536448</td>\n",
       "      <td>1.315686</td>\n",
       "      <td>5852</td>\n",
       "      <td>834</td>\n",
       "      <td>5533</td>\n",
       "      <td>765</td>\n",
       "    </tr>\n",
       "    <tr>\n",
       "      <th>20161004</th>\n",
       "      <td>0.148161</td>\n",
       "      <td>1.759144</td>\n",
       "      <td>3523</td>\n",
       "      <td>550</td>\n",
       "      <td>3259</td>\n",
       "      <td>514</td>\n",
       "    </tr>\n",
       "    <tr>\n",
       "      <th>20161005</th>\n",
       "      <td>0.057687</td>\n",
       "      <td>1.697832</td>\n",
       "      <td>2390</td>\n",
       "      <td>400</td>\n",
       "      <td>2225</td>\n",
       "      <td>369</td>\n",
       "    </tr>\n",
       "    <tr>\n",
       "      <th>20161006</th>\n",
       "      <td>-0.421545</td>\n",
       "      <td>1.908672</td>\n",
       "      <td>2207</td>\n",
       "      <td>416</td>\n",
       "      <td>2056</td>\n",
       "      <td>369</td>\n",
       "    </tr>\n",
       "    <tr>\n",
       "      <th>20161007</th>\n",
       "      <td>2.059901</td>\n",
       "      <td>2.140568</td>\n",
       "      <td>3731</td>\n",
       "      <td>631</td>\n",
       "      <td>3399</td>\n",
       "      <td>493</td>\n",
       "    </tr>\n",
       "    <tr>\n",
       "      <th>20161123</th>\n",
       "      <td>0.293193</td>\n",
       "      <td>2.071103</td>\n",
       "      <td>2165</td>\n",
       "      <td>342</td>\n",
       "      <td>2038</td>\n",
       "      <td>263</td>\n",
       "    </tr>\n",
       "    <tr>\n",
       "      <th>20161124</th>\n",
       "      <td>0.165741</td>\n",
       "      <td>3.124648</td>\n",
       "      <td>2238</td>\n",
       "      <td>320</td>\n",
       "      <td>2071</td>\n",
       "      <td>284</td>\n",
       "    </tr>\n",
       "  </tbody>\n",
       "</table>\n",
       "</div>"
      ],
      "text/plain": [
       "           AvgTone  GoldsteinScale  NumMentions  NumSources  NumArticles  \\\n",
       "SQLDATE                                                                    \n",
       "20160926  0.768593        3.603692         4130         728         3905   \n",
       "20160927  0.055893        3.062816         5156         858         4760   \n",
       "20161002 -0.517625        2.225249         2392         336         2260   \n",
       "20161003 -0.536448        1.315686         5852         834         5533   \n",
       "20161004  0.148161        1.759144         3523         550         3259   \n",
       "20161005  0.057687        1.697832         2390         400         2225   \n",
       "20161006 -0.421545        1.908672         2207         416         2056   \n",
       "20161007  2.059901        2.140568         3731         631         3399   \n",
       "20161123  0.293193        2.071103         2165         342         2038   \n",
       "20161124  0.165741        3.124648         2238         320         2071   \n",
       "\n",
       "          Events  \n",
       "SQLDATE           \n",
       "20160926     650  \n",
       "20160927     632  \n",
       "20161002     301  \n",
       "20161003     765  \n",
       "20161004     514  \n",
       "20161005     369  \n",
       "20161006     369  \n",
       "20161007     493  \n",
       "20161123     263  \n",
       "20161124     284  "
      ]
     },
     "execution_count": 49,
     "metadata": {},
     "output_type": "execute_result"
    }
   ],
   "source": [
    "events_df[events_df['NumArticles'] >= 2000]"
   ]
  },
  {
   "cell_type": "markdown",
   "metadata": {},
   "source": [
    "# Events"
   ]
  },
  {
   "cell_type": "code",
   "execution_count": 50,
   "metadata": {
    "collapsed": false
   },
   "outputs": [
    {
     "data": {
      "text/plain": [
       "[<matplotlib.lines.Line2D at 0x86a57487b8>]"
      ]
     },
     "execution_count": 50,
     "metadata": {},
     "output_type": "execute_result"
    },
    {
     "data": {
      "image/png": "[encoded data removed]",
      "text/plain": [
       "<matplotlib.figure.Figure at 0x860365e828>"
      ]
     },
     "metadata": {},
     "output_type": "display_data"
    }
   ],
   "source": [
    "plt.plot(list(events_df.Events))"
   ]
  },
  {
   "cell_type": "code",
   "execution_count": 54,
   "metadata": {
    "collapsed": false
   },
   "outputs": [
    {
     "data": {
      "text/html": [
       "<div>\n",
       "<table border=\"1\" class=\"dataframe\">\n",
       "  <thead>\n",
       "    <tr style=\"text-align: right;\">\n",
       "      <th></th>\n",
       "      <th>AvgTone</th>\n",
       "      <th>GoldsteinScale</th>\n",
       "      <th>NumMentions</th>\n",
       "      <th>NumSources</th>\n",
       "      <th>NumArticles</th>\n",
       "      <th>Events</th>\n",
       "    </tr>\n",
       "    <tr>\n",
       "      <th>SQLDATE</th>\n",
       "      <th></th>\n",
       "      <th></th>\n",
       "      <th></th>\n",
       "      <th></th>\n",
       "      <th></th>\n",
       "      <th></th>\n",
       "    </tr>\n",
       "  </thead>\n",
       "  <tbody>\n",
       "    <tr>\n",
       "      <th>20160926</th>\n",
       "      <td>0.768593</td>\n",
       "      <td>3.603692</td>\n",
       "      <td>4130</td>\n",
       "      <td>728</td>\n",
       "      <td>3905</td>\n",
       "      <td>650</td>\n",
       "    </tr>\n",
       "    <tr>\n",
       "      <th>20160927</th>\n",
       "      <td>0.055893</td>\n",
       "      <td>3.062816</td>\n",
       "      <td>5156</td>\n",
       "      <td>858</td>\n",
       "      <td>4760</td>\n",
       "      <td>632</td>\n",
       "    </tr>\n",
       "    <tr>\n",
       "      <th>20160928</th>\n",
       "      <td>-0.210844</td>\n",
       "      <td>3.220205</td>\n",
       "      <td>1797</td>\n",
       "      <td>315</td>\n",
       "      <td>1734</td>\n",
       "      <td>292</td>\n",
       "    </tr>\n",
       "    <tr>\n",
       "      <th>20161002</th>\n",
       "      <td>-0.517625</td>\n",
       "      <td>2.225249</td>\n",
       "      <td>2392</td>\n",
       "      <td>336</td>\n",
       "      <td>2260</td>\n",
       "      <td>301</td>\n",
       "    </tr>\n",
       "    <tr>\n",
       "      <th>20161003</th>\n",
       "      <td>-0.536448</td>\n",
       "      <td>1.315686</td>\n",
       "      <td>5852</td>\n",
       "      <td>834</td>\n",
       "      <td>5533</td>\n",
       "      <td>765</td>\n",
       "    </tr>\n",
       "    <tr>\n",
       "      <th>20161004</th>\n",
       "      <td>0.148161</td>\n",
       "      <td>1.759144</td>\n",
       "      <td>3523</td>\n",
       "      <td>550</td>\n",
       "      <td>3259</td>\n",
       "      <td>514</td>\n",
       "    </tr>\n",
       "    <tr>\n",
       "      <th>20161005</th>\n",
       "      <td>0.057687</td>\n",
       "      <td>1.697832</td>\n",
       "      <td>2390</td>\n",
       "      <td>400</td>\n",
       "      <td>2225</td>\n",
       "      <td>369</td>\n",
       "    </tr>\n",
       "    <tr>\n",
       "      <th>20161006</th>\n",
       "      <td>-0.421545</td>\n",
       "      <td>1.908672</td>\n",
       "      <td>2207</td>\n",
       "      <td>416</td>\n",
       "      <td>2056</td>\n",
       "      <td>369</td>\n",
       "    </tr>\n",
       "    <tr>\n",
       "      <th>20161007</th>\n",
       "      <td>2.059901</td>\n",
       "      <td>2.140568</td>\n",
       "      <td>3731</td>\n",
       "      <td>631</td>\n",
       "      <td>3399</td>\n",
       "      <td>493</td>\n",
       "    </tr>\n",
       "    <tr>\n",
       "      <th>20161124</th>\n",
       "      <td>0.165741</td>\n",
       "      <td>3.124648</td>\n",
       "      <td>2238</td>\n",
       "      <td>320</td>\n",
       "      <td>2071</td>\n",
       "      <td>284</td>\n",
       "    </tr>\n",
       "  </tbody>\n",
       "</table>\n",
       "</div>"
      ],
      "text/plain": [
       "           AvgTone  GoldsteinScale  NumMentions  NumSources  NumArticles  \\\n",
       "SQLDATE                                                                    \n",
       "20160926  0.768593        3.603692         4130         728         3905   \n",
       "20160927  0.055893        3.062816         5156         858         4760   \n",
       "20160928 -0.210844        3.220205         1797         315         1734   \n",
       "20161002 -0.517625        2.225249         2392         336         2260   \n",
       "20161003 -0.536448        1.315686         5852         834         5533   \n",
       "20161004  0.148161        1.759144         3523         550         3259   \n",
       "20161005  0.057687        1.697832         2390         400         2225   \n",
       "20161006 -0.421545        1.908672         2207         416         2056   \n",
       "20161007  2.059901        2.140568         3731         631         3399   \n",
       "20161124  0.165741        3.124648         2238         320         2071   \n",
       "\n",
       "          Events  \n",
       "SQLDATE           \n",
       "20160926     650  \n",
       "20160927     632  \n",
       "20160928     292  \n",
       "20161002     301  \n",
       "20161003     765  \n",
       "20161004     514  \n",
       "20161005     369  \n",
       "20161006     369  \n",
       "20161007     493  \n",
       "20161124     284  "
      ]
     },
     "execution_count": 54,
     "metadata": {},
     "output_type": "execute_result"
    }
   ],
   "source": [
    "events_df[events_df['Events'] >= 275]"
   ]
  },
  {
   "cell_type": "code",
   "execution_count": 58,
   "metadata": {
    "collapsed": false
   },
   "outputs": [],
   "source": [
    "twitter_df['Dates'] = [int(date) for date in list(twitter_df.index)]"
   ]
  },
  {
   "cell_type": "markdown",
   "metadata": {},
   "source": [
    "# Full Dataset"
   ]
  },
  {
   "cell_type": "code",
   "execution_count": 59,
   "metadata": {
    "collapsed": true
   },
   "outputs": [],
   "source": [
    "data = pd.concat([twitter_df, events_df], axis=1).fillna(method='ffill')"
   ]
  },
  {
   "cell_type": "code",
   "execution_count": 60,
   "metadata": {
    "collapsed": false
   },
   "outputs": [
    {
     "data": {
      "text/html": [
       "<div>\n",
       "<table border=\"1\" class=\"dataframe\">\n",
       "  <thead>\n",
       "    <tr style=\"text-align: right;\">\n",
       "      <th></th>\n",
       "      <th>ArrTime</th>\n",
       "      <th>TweetLen</th>\n",
       "      <th>RT</th>\n",
       "      <th>Fav</th>\n",
       "      <th>PosWords</th>\n",
       "      <th>NegWords</th>\n",
       "      <th>Tweets</th>\n",
       "      <th>Dates</th>\n",
       "      <th>AvgTone</th>\n",
       "      <th>GoldsteinScale</th>\n",
       "      <th>NumMentions</th>\n",
       "      <th>NumSources</th>\n",
       "      <th>NumArticles</th>\n",
       "      <th>Events</th>\n",
       "    </tr>\n",
       "  </thead>\n",
       "  <tbody>\n",
       "    <tr>\n",
       "      <th>20160911</th>\n",
       "      <td>1.048383</td>\n",
       "      <td>24.457235</td>\n",
       "      <td>287660.0</td>\n",
       "      <td>164738.0</td>\n",
       "      <td>258.0</td>\n",
       "      <td>45.0</td>\n",
       "      <td>4361.0</td>\n",
       "      <td>20160911.0</td>\n",
       "      <td>-0.547192</td>\n",
       "      <td>4.304310</td>\n",
       "      <td>894.0</td>\n",
       "      <td>119.0</td>\n",
       "      <td>808.0</td>\n",
       "      <td>116.0</td>\n",
       "    </tr>\n",
       "    <tr>\n",
       "      <th>20160912</th>\n",
       "      <td>1.930897</td>\n",
       "      <td>24.494482</td>\n",
       "      <td>4532694.0</td>\n",
       "      <td>3086731.0</td>\n",
       "      <td>2942.0</td>\n",
       "      <td>739.0</td>\n",
       "      <td>36062.0</td>\n",
       "      <td>20160912.0</td>\n",
       "      <td>-1.960844</td>\n",
       "      <td>3.279487</td>\n",
       "      <td>726.0</td>\n",
       "      <td>124.0</td>\n",
       "      <td>724.0</td>\n",
       "      <td>117.0</td>\n",
       "    </tr>\n",
       "    <tr>\n",
       "      <th>20160913</th>\n",
       "      <td>1.619007</td>\n",
       "      <td>25.076207</td>\n",
       "      <td>4915644.0</td>\n",
       "      <td>3052886.0</td>\n",
       "      <td>4295.0</td>\n",
       "      <td>1334.0</td>\n",
       "      <td>48867.0</td>\n",
       "      <td>20160913.0</td>\n",
       "      <td>-0.668595</td>\n",
       "      <td>2.845806</td>\n",
       "      <td>1143.0</td>\n",
       "      <td>163.0</td>\n",
       "      <td>1059.0</td>\n",
       "      <td>155.0</td>\n",
       "    </tr>\n",
       "    <tr>\n",
       "      <th>20160914</th>\n",
       "      <td>0.845102</td>\n",
       "      <td>25.037506</td>\n",
       "      <td>2883815.0</td>\n",
       "      <td>2056129.0</td>\n",
       "      <td>2612.0</td>\n",
       "      <td>525.0</td>\n",
       "      <td>31808.0</td>\n",
       "      <td>20160914.0</td>\n",
       "      <td>0.126425</td>\n",
       "      <td>2.770803</td>\n",
       "      <td>1098.0</td>\n",
       "      <td>192.0</td>\n",
       "      <td>1066.0</td>\n",
       "      <td>137.0</td>\n",
       "    </tr>\n",
       "    <tr>\n",
       "      <th>20160915</th>\n",
       "      <td>1.741547</td>\n",
       "      <td>24.959742</td>\n",
       "      <td>1670461.0</td>\n",
       "      <td>1061135.0</td>\n",
       "      <td>1612.0</td>\n",
       "      <td>448.0</td>\n",
       "      <td>20170.0</td>\n",
       "      <td>20160915.0</td>\n",
       "      <td>-0.974327</td>\n",
       "      <td>2.219672</td>\n",
       "      <td>711.0</td>\n",
       "      <td>135.0</td>\n",
       "      <td>707.0</td>\n",
       "      <td>122.0</td>\n",
       "    </tr>\n",
       "    <tr>\n",
       "      <th>20160916</th>\n",
       "      <td>1.074823</td>\n",
       "      <td>24.219481</td>\n",
       "      <td>2159568.0</td>\n",
       "      <td>1390254.0</td>\n",
       "      <td>2409.0</td>\n",
       "      <td>687.0</td>\n",
       "      <td>40295.0</td>\n",
       "      <td>20160916.0</td>\n",
       "      <td>-0.215027</td>\n",
       "      <td>2.700000</td>\n",
       "      <td>1116.0</td>\n",
       "      <td>168.0</td>\n",
       "      <td>1099.0</td>\n",
       "      <td>153.0</td>\n",
       "    </tr>\n",
       "    <tr>\n",
       "      <th>20160917</th>\n",
       "      <td>1.977888</td>\n",
       "      <td>23.876874</td>\n",
       "      <td>2534144.0</td>\n",
       "      <td>1698023.0</td>\n",
       "      <td>3128.0</td>\n",
       "      <td>1094.0</td>\n",
       "      <td>46627.0</td>\n",
       "      <td>20160917.0</td>\n",
       "      <td>0.133101</td>\n",
       "      <td>2.895050</td>\n",
       "      <td>1543.0</td>\n",
       "      <td>249.0</td>\n",
       "      <td>1449.0</td>\n",
       "      <td>202.0</td>\n",
       "    </tr>\n",
       "    <tr>\n",
       "      <th>20160918</th>\n",
       "      <td>2.240310</td>\n",
       "      <td>24.307525</td>\n",
       "      <td>2232602.0</td>\n",
       "      <td>1534565.0</td>\n",
       "      <td>2876.0</td>\n",
       "      <td>604.0</td>\n",
       "      <td>41821.0</td>\n",
       "      <td>20160918.0</td>\n",
       "      <td>0.154699</td>\n",
       "      <td>2.526724</td>\n",
       "      <td>812.0</td>\n",
       "      <td>123.0</td>\n",
       "      <td>694.0</td>\n",
       "      <td>116.0</td>\n",
       "    </tr>\n",
       "    <tr>\n",
       "      <th>20160919</th>\n",
       "      <td>2.600000</td>\n",
       "      <td>24.358969</td>\n",
       "      <td>3513855.0</td>\n",
       "      <td>2132814.0</td>\n",
       "      <td>3880.0</td>\n",
       "      <td>807.0</td>\n",
       "      <td>53740.0</td>\n",
       "      <td>20160919.0</td>\n",
       "      <td>-0.081255</td>\n",
       "      <td>3.193421</td>\n",
       "      <td>1115.0</td>\n",
       "      <td>180.0</td>\n",
       "      <td>976.0</td>\n",
       "      <td>152.0</td>\n",
       "    </tr>\n",
       "    <tr>\n",
       "      <th>20160920</th>\n",
       "      <td>2.306170</td>\n",
       "      <td>24.400921</td>\n",
       "      <td>3545878.0</td>\n",
       "      <td>1911385.0</td>\n",
       "      <td>2556.0</td>\n",
       "      <td>469.0</td>\n",
       "      <td>43208.0</td>\n",
       "      <td>20160920.0</td>\n",
       "      <td>1.049852</td>\n",
       "      <td>2.916875</td>\n",
       "      <td>987.0</td>\n",
       "      <td>178.0</td>\n",
       "      <td>941.0</td>\n",
       "      <td>160.0</td>\n",
       "    </tr>\n",
       "    <tr>\n",
       "      <th>20160921</th>\n",
       "      <td>1.308948</td>\n",
       "      <td>24.737155</td>\n",
       "      <td>1215989.0</td>\n",
       "      <td>660807.0</td>\n",
       "      <td>1016.0</td>\n",
       "      <td>255.0</td>\n",
       "      <td>16485.0</td>\n",
       "      <td>20160921.0</td>\n",
       "      <td>0.410038</td>\n",
       "      <td>2.804070</td>\n",
       "      <td>1452.0</td>\n",
       "      <td>264.0</td>\n",
       "      <td>1427.0</td>\n",
       "      <td>172.0</td>\n",
       "    </tr>\n",
       "    <tr>\n",
       "      <th>20160922</th>\n",
       "      <td>2.582535</td>\n",
       "      <td>23.973823</td>\n",
       "      <td>1170986.0</td>\n",
       "      <td>908877.0</td>\n",
       "      <td>1013.0</td>\n",
       "      <td>259.0</td>\n",
       "      <td>20361.0</td>\n",
       "      <td>20160922.0</td>\n",
       "      <td>0.073252</td>\n",
       "      <td>3.063448</td>\n",
       "      <td>1120.0</td>\n",
       "      <td>173.0</td>\n",
       "      <td>1104.0</td>\n",
       "      <td>145.0</td>\n",
       "    </tr>\n",
       "    <tr>\n",
       "      <th>20160923</th>\n",
       "      <td>1.970631</td>\n",
       "      <td>23.765730</td>\n",
       "      <td>3301613.0</td>\n",
       "      <td>2325576.0</td>\n",
       "      <td>3111.0</td>\n",
       "      <td>630.0</td>\n",
       "      <td>55739.0</td>\n",
       "      <td>20160923.0</td>\n",
       "      <td>-0.170055</td>\n",
       "      <td>3.059333</td>\n",
       "      <td>1129.0</td>\n",
       "      <td>215.0</td>\n",
       "      <td>1088.0</td>\n",
       "      <td>150.0</td>\n",
       "    </tr>\n",
       "    <tr>\n",
       "      <th>20160924</th>\n",
       "      <td>1.301388</td>\n",
       "      <td>23.734016</td>\n",
       "      <td>1725434.0</td>\n",
       "      <td>1217982.0</td>\n",
       "      <td>1908.0</td>\n",
       "      <td>557.0</td>\n",
       "      <td>36521.0</td>\n",
       "      <td>20160924.0</td>\n",
       "      <td>0.756706</td>\n",
       "      <td>3.741333</td>\n",
       "      <td>1481.0</td>\n",
       "      <td>250.0</td>\n",
       "      <td>1342.0</td>\n",
       "      <td>225.0</td>\n",
       "    </tr>\n",
       "    <tr>\n",
       "      <th>20160925</th>\n",
       "      <td>1.301388</td>\n",
       "      <td>23.734016</td>\n",
       "      <td>1725434.0</td>\n",
       "      <td>1217982.0</td>\n",
       "      <td>1908.0</td>\n",
       "      <td>557.0</td>\n",
       "      <td>36521.0</td>\n",
       "      <td>20160924.0</td>\n",
       "      <td>0.670022</td>\n",
       "      <td>3.492237</td>\n",
       "      <td>1300.0</td>\n",
       "      <td>234.0</td>\n",
       "      <td>1250.0</td>\n",
       "      <td>219.0</td>\n",
       "    </tr>\n",
       "    <tr>\n",
       "      <th>20160926</th>\n",
       "      <td>0.933233</td>\n",
       "      <td>23.873653</td>\n",
       "      <td>5985811.0</td>\n",
       "      <td>5013764.0</td>\n",
       "      <td>6026.0</td>\n",
       "      <td>2391.0</td>\n",
       "      <td>124673.0</td>\n",
       "      <td>20160926.0</td>\n",
       "      <td>0.768593</td>\n",
       "      <td>3.603692</td>\n",
       "      <td>4130.0</td>\n",
       "      <td>728.0</td>\n",
       "      <td>3905.0</td>\n",
       "      <td>650.0</td>\n",
       "    </tr>\n",
       "    <tr>\n",
       "      <th>20160927</th>\n",
       "      <td>1.685801</td>\n",
       "      <td>24.402781</td>\n",
       "      <td>9200130.0</td>\n",
       "      <td>8175263.0</td>\n",
       "      <td>7593.0</td>\n",
       "      <td>6838.0</td>\n",
       "      <td>94771.0</td>\n",
       "      <td>20160927.0</td>\n",
       "      <td>0.055893</td>\n",
       "      <td>3.062816</td>\n",
       "      <td>5156.0</td>\n",
       "      <td>858.0</td>\n",
       "      <td>4760.0</td>\n",
       "      <td>632.0</td>\n",
       "    </tr>\n",
       "    <tr>\n",
       "      <th>20160928</th>\n",
       "      <td>1.440741</td>\n",
       "      <td>24.572752</td>\n",
       "      <td>6033990.0</td>\n",
       "      <td>4170070.0</td>\n",
       "      <td>5583.0</td>\n",
       "      <td>1573.0</td>\n",
       "      <td>77819.0</td>\n",
       "      <td>20160928.0</td>\n",
       "      <td>-0.210844</td>\n",
       "      <td>3.220205</td>\n",
       "      <td>1797.0</td>\n",
       "      <td>315.0</td>\n",
       "      <td>1734.0</td>\n",
       "      <td>292.0</td>\n",
       "    </tr>\n",
       "    <tr>\n",
       "      <th>20160929</th>\n",
       "      <td>2.227933</td>\n",
       "      <td>24.745501</td>\n",
       "      <td>5291180.0</td>\n",
       "      <td>3339713.0</td>\n",
       "      <td>4470.0</td>\n",
       "      <td>892.0</td>\n",
       "      <td>55784.0</td>\n",
       "      <td>20160929.0</td>\n",
       "      <td>0.084403</td>\n",
       "      <td>3.356915</td>\n",
       "      <td>1514.0</td>\n",
       "      <td>213.0</td>\n",
       "      <td>1431.0</td>\n",
       "      <td>188.0</td>\n",
       "    </tr>\n",
       "    <tr>\n",
       "      <th>20160930</th>\n",
       "      <td>1.810496</td>\n",
       "      <td>24.038426</td>\n",
       "      <td>5607398.0</td>\n",
       "      <td>3839784.0</td>\n",
       "      <td>4911.0</td>\n",
       "      <td>1450.0</td>\n",
       "      <td>80753.0</td>\n",
       "      <td>20160930.0</td>\n",
       "      <td>-1.333505</td>\n",
       "      <td>2.451351</td>\n",
       "      <td>1681.0</td>\n",
       "      <td>279.0</td>\n",
       "      <td>1616.0</td>\n",
       "      <td>259.0</td>\n",
       "    </tr>\n",
       "  </tbody>\n",
       "</table>\n",
       "</div>"
      ],
      "text/plain": [
       "           ArrTime   TweetLen         RT        Fav  PosWords  NegWords  \\\n",
       "20160911  1.048383  24.457235   287660.0   164738.0     258.0      45.0   \n",
       "20160912  1.930897  24.494482  4532694.0  3086731.0    2942.0     739.0   \n",
       "20160913  1.619007  25.076207  4915644.0  3052886.0    4295.0    1334.0   \n",
       "20160914  0.845102  25.037506  2883815.0  2056129.0    2612.0     525.0   \n",
       "20160915  1.741547  24.959742  1670461.0  1061135.0    1612.0     448.0   \n",
       "20160916  1.074823  24.219481  2159568.0  1390254.0    2409.0     687.0   \n",
       "20160917  1.977888  23.876874  2534144.0  1698023.0    3128.0    1094.0   \n",
       "20160918  2.240310  24.307525  2232602.0  1534565.0    2876.0     604.0   \n",
       "20160919  2.600000  24.358969  3513855.0  2132814.0    3880.0     807.0   \n",
       "20160920  2.306170  24.400921  3545878.0  1911385.0    2556.0     469.0   \n",
       "20160921  1.308948  24.737155  1215989.0   660807.0    1016.0     255.0   \n",
       "20160922  2.582535  23.973823  1170986.0   908877.0    1013.0     259.0   \n",
       "20160923  1.970631  23.765730  3301613.0  2325576.0    3111.0     630.0   \n",
       "20160924  1.301388  23.734016  1725434.0  1217982.0    1908.0     557.0   \n",
       "20160925  1.301388  23.734016  1725434.0  1217982.0    1908.0     557.0   \n",
       "20160926  0.933233  23.873653  5985811.0  5013764.0    6026.0    2391.0   \n",
       "20160927  1.685801  24.402781  9200130.0  8175263.0    7593.0    6838.0   \n",
       "20160928  1.440741  24.572752  6033990.0  4170070.0    5583.0    1573.0   \n",
       "20160929  2.227933  24.745501  5291180.0  3339713.0    4470.0     892.0   \n",
       "20160930  1.810496  24.038426  5607398.0  3839784.0    4911.0    1450.0   \n",
       "\n",
       "            Tweets       Dates   AvgTone  GoldsteinScale  NumMentions  \\\n",
       "20160911    4361.0  20160911.0 -0.547192        4.304310        894.0   \n",
       "20160912   36062.0  20160912.0 -1.960844        3.279487        726.0   \n",
       "20160913   48867.0  20160913.0 -0.668595        2.845806       1143.0   \n",
       "20160914   31808.0  20160914.0  0.126425        2.770803       1098.0   \n",
       "20160915   20170.0  20160915.0 -0.974327        2.219672        711.0   \n",
       "20160916   40295.0  20160916.0 -0.215027        2.700000       1116.0   \n",
       "20160917   46627.0  20160917.0  0.133101        2.895050       1543.0   \n",
       "20160918   41821.0  20160918.0  0.154699        2.526724        812.0   \n",
       "20160919   53740.0  20160919.0 -0.081255        3.193421       1115.0   \n",
       "20160920   43208.0  20160920.0  1.049852        2.916875        987.0   \n",
       "20160921   16485.0  20160921.0  0.410038        2.804070       1452.0   \n",
       "20160922   20361.0  20160922.0  0.073252        3.063448       1120.0   \n",
       "20160923   55739.0  20160923.0 -0.170055        3.059333       1129.0   \n",
       "20160924   36521.0  20160924.0  0.756706        3.741333       1481.0   \n",
       "20160925   36521.0  20160924.0  0.670022        3.492237       1300.0   \n",
       "20160926  124673.0  20160926.0  0.768593        3.603692       4130.0   \n",
       "20160927   94771.0  20160927.0  0.055893        3.062816       5156.0   \n",
       "20160928   77819.0  20160928.0 -0.210844        3.220205       1797.0   \n",
       "20160929   55784.0  20160929.0  0.084403        3.356915       1514.0   \n",
       "20160930   80753.0  20160930.0 -1.333505        2.451351       1681.0   \n",
       "\n",
       "          NumSources  NumArticles  Events  \n",
       "20160911       119.0        808.0   116.0  \n",
       "20160912       124.0        724.0   117.0  \n",
       "20160913       163.0       1059.0   155.0  \n",
       "20160914       192.0       1066.0   137.0  \n",
       "20160915       135.0        707.0   122.0  \n",
       "20160916       168.0       1099.0   153.0  \n",
       "20160917       249.0       1449.0   202.0  \n",
       "20160918       123.0        694.0   116.0  \n",
       "20160919       180.0        976.0   152.0  \n",
       "20160920       178.0        941.0   160.0  \n",
       "20160921       264.0       1427.0   172.0  \n",
       "20160922       173.0       1104.0   145.0  \n",
       "20160923       215.0       1088.0   150.0  \n",
       "20160924       250.0       1342.0   225.0  \n",
       "20160925       234.0       1250.0   219.0  \n",
       "20160926       728.0       3905.0   650.0  \n",
       "20160927       858.0       4760.0   632.0  \n",
       "20160928       315.0       1734.0   292.0  \n",
       "20160929       213.0       1431.0   188.0  \n",
       "20160930       279.0       1616.0   259.0  "
      ]
     },
     "execution_count": 60,
     "metadata": {},
     "output_type": "execute_result"
    }
   ],
   "source": [
    "data.head(20)"
   ]
  },
  {
   "cell_type": "code",
   "execution_count": 61,
   "metadata": {
    "collapsed": true
   },
   "outputs": [],
   "source": [
    "data.to_csv('final_data_2.csv', index=False)"
   ]
  },
  {
   "cell_type": "code",
   "execution_count": 88,
   "metadata": {
    "collapsed": true
   },
   "outputs": [],
   "source": [
    "x_columns = ['ArrTime', 'TweetLen', 'PosWords', 'NegWords', 'AvgTone', 'GoldsteinScale', 'NumMentions', 'NumSources', 'NumArticles', 'Events']\n",
    "y_columns = ['Tweets', 'RT', 'Fav']"
   ]
  },
  {
   "cell_type": "code",
   "execution_count": 89,
   "metadata": {
    "collapsed": true
   },
   "outputs": [],
   "source": [
    "data_X = data[x_columns]\n",
    "data_Y = data[y_columns]"
   ]
  },
  {
   "cell_type": "code",
   "execution_count": 214,
   "metadata": {
    "collapsed": true
   },
   "outputs": [],
   "source": [
    "# Split the data into training/testing sets\n",
    "split = 300\n",
    "data_X_train = data_X[:-split]\n",
    "data_X_test = data_X[-split:]\n",
    "\n",
    "# Split the targets into training/testing sets\n",
    "data_y_train = data_Y[:-split]\n",
    "data_y_test = data_Y[-split:]"
   ]
  },
  {
   "cell_type": "code",
   "execution_count": 215,
   "metadata": {
    "collapsed": false
   },
   "outputs": [
    {
     "name": "stderr",
     "output_type": "stream",
     "text": [
      "C:\\Anaconda3\\lib\\site-packages\\sklearn\\preprocessing\\data.py:321: DeprecationWarning: Passing 1d arrays as data is deprecated in 0.17 and will raise ValueError in 0.19. Reshape your data either using X.reshape(-1, 1) if your data has a single feature or X.reshape(1, -1) if it contains a single sample.\n",
      "  warnings.warn(DEPRECATION_MSG_1D, DeprecationWarning)\n",
      "C:\\Anaconda3\\lib\\site-packages\\sklearn\\preprocessing\\data.py:356: DeprecationWarning: Passing 1d arrays as data is deprecated in 0.17 and will raise ValueError in 0.19. Reshape your data either using X.reshape(-1, 1) if your data has a single feature or X.reshape(1, -1) if it contains a single sample.\n",
      "  warnings.warn(DEPRECATION_MSG_1D, DeprecationWarning)\n",
      "C:\\Anaconda3\\lib\\site-packages\\sklearn\\preprocessing\\data.py:321: DeprecationWarning: Passing 1d arrays as data is deprecated in 0.17 and will raise ValueError in 0.19. Reshape your data either using X.reshape(-1, 1) if your data has a single feature or X.reshape(1, -1) if it contains a single sample.\n",
      "  warnings.warn(DEPRECATION_MSG_1D, DeprecationWarning)\n",
      "C:\\Anaconda3\\lib\\site-packages\\sklearn\\preprocessing\\data.py:356: DeprecationWarning: Passing 1d arrays as data is deprecated in 0.17 and will raise ValueError in 0.19. Reshape your data either using X.reshape(-1, 1) if your data has a single feature or X.reshape(1, -1) if it contains a single sample.\n",
      "  warnings.warn(DEPRECATION_MSG_1D, DeprecationWarning)\n",
      "C:\\Anaconda3\\lib\\site-packages\\sklearn\\preprocessing\\data.py:321: DeprecationWarning: Passing 1d arrays as data is deprecated in 0.17 and will raise ValueError in 0.19. Reshape your data either using X.reshape(-1, 1) if your data has a single feature or X.reshape(1, -1) if it contains a single sample.\n",
      "  warnings.warn(DEPRECATION_MSG_1D, DeprecationWarning)\n",
      "C:\\Anaconda3\\lib\\site-packages\\sklearn\\preprocessing\\data.py:356: DeprecationWarning: Passing 1d arrays as data is deprecated in 0.17 and will raise ValueError in 0.19. Reshape your data either using X.reshape(-1, 1) if your data has a single feature or X.reshape(1, -1) if it contains a single sample.\n",
      "  warnings.warn(DEPRECATION_MSG_1D, DeprecationWarning)\n"
     ]
    }
   ],
   "source": [
    "scaler = MinMaxScaler(copy=True, feature_range=(0, 10))\n",
    "\n",
    "y_train_tweets = scaler.fit_transform(list(data_y_train.Tweets))\n",
    "y_train_rt = scaler.fit_transform(list(data_y_train.RT))\n",
    "y_train_fav = scaler.fit_transform(list(data_y_train.Fav))\n",
    "y_train = np.array([(y_train_tweets[i]*y_train_rt[i]*y_train_fav[i])**(1./3.) for i in range(len(y_train_tweets))])"
   ]
  },
  {
   "cell_type": "code",
   "execution_count": 216,
   "metadata": {
    "collapsed": false
   },
   "outputs": [
    {
     "name": "stderr",
     "output_type": "stream",
     "text": [
      "C:\\Anaconda3\\lib\\site-packages\\sklearn\\preprocessing\\data.py:321: DeprecationWarning: Passing 1d arrays as data is deprecated in 0.17 and will raise ValueError in 0.19. Reshape your data either using X.reshape(-1, 1) if your data has a single feature or X.reshape(1, -1) if it contains a single sample.\n",
      "  warnings.warn(DEPRECATION_MSG_1D, DeprecationWarning)\n",
      "C:\\Anaconda3\\lib\\site-packages\\sklearn\\preprocessing\\data.py:356: DeprecationWarning: Passing 1d arrays as data is deprecated in 0.17 and will raise ValueError in 0.19. Reshape your data either using X.reshape(-1, 1) if your data has a single feature or X.reshape(1, -1) if it contains a single sample.\n",
      "  warnings.warn(DEPRECATION_MSG_1D, DeprecationWarning)\n",
      "C:\\Anaconda3\\lib\\site-packages\\sklearn\\preprocessing\\data.py:321: DeprecationWarning: Passing 1d arrays as data is deprecated in 0.17 and will raise ValueError in 0.19. Reshape your data either using X.reshape(-1, 1) if your data has a single feature or X.reshape(1, -1) if it contains a single sample.\n",
      "  warnings.warn(DEPRECATION_MSG_1D, DeprecationWarning)\n",
      "C:\\Anaconda3\\lib\\site-packages\\sklearn\\preprocessing\\data.py:356: DeprecationWarning: Passing 1d arrays as data is deprecated in 0.17 and will raise ValueError in 0.19. Reshape your data either using X.reshape(-1, 1) if your data has a single feature or X.reshape(1, -1) if it contains a single sample.\n",
      "  warnings.warn(DEPRECATION_MSG_1D, DeprecationWarning)\n",
      "C:\\Anaconda3\\lib\\site-packages\\sklearn\\preprocessing\\data.py:321: DeprecationWarning: Passing 1d arrays as data is deprecated in 0.17 and will raise ValueError in 0.19. Reshape your data either using X.reshape(-1, 1) if your data has a single feature or X.reshape(1, -1) if it contains a single sample.\n",
      "  warnings.warn(DEPRECATION_MSG_1D, DeprecationWarning)\n",
      "C:\\Anaconda3\\lib\\site-packages\\sklearn\\preprocessing\\data.py:356: DeprecationWarning: Passing 1d arrays as data is deprecated in 0.17 and will raise ValueError in 0.19. Reshape your data either using X.reshape(-1, 1) if your data has a single feature or X.reshape(1, -1) if it contains a single sample.\n",
      "  warnings.warn(DEPRECATION_MSG_1D, DeprecationWarning)\n"
     ]
    }
   ],
   "source": [
    "scaler = MinMaxScaler(copy=True, feature_range=(min(y_train), max(y_train)))\n",
    "\n",
    "y_test_tweets = scaler.fit_transform(list(data_y_test.Tweets))\n",
    "y_test_rt = scaler.fit_transform(list(data_y_test.RT))\n",
    "y_test_fav = scaler.fit_transform(list(data_y_test.Fav))\n",
    "y_test = np.array([(y_test_tweets[i]*y_test_rt[i]*y_test_fav[i])**(1./3.) for i in range(len(y_test_tweets))])"
   ]
  },
  {
   "cell_type": "code",
   "execution_count": 217,
   "metadata": {
    "collapsed": false
   },
   "outputs": [
    {
     "name": "stdout",
     "output_type": "stream",
     "text": [
      "0.0 5.97820074623\n",
      "0.0 5.66085131645\n"
     ]
    }
   ],
   "source": [
    "print(min(y_train), max(y_train))\n",
    "print(min(y_test), max(y_test))"
   ]
  },
  {
   "cell_type": "code",
   "execution_count": 218,
   "metadata": {
    "collapsed": false
   },
   "outputs": [
    {
     "name": "stdout",
     "output_type": "stream",
     "text": [
      "Coefficients: \n",
      " [  8.96010221e-02  -1.23334794e-01  -3.45892851e-05   3.38849330e-04\n",
      "  -1.80864015e-01  -3.12942014e-02   5.10484321e-04  -2.24282267e-03\n",
      "  -1.20223879e-03   5.74460759e-03]\n",
      "Mean squared error: 0.4925363192\n",
      "Variance score:  -0.014092\n"
     ]
    }
   ],
   "source": [
    "from sklearn import datasets, linear_model\n",
    "from sklearn.metrics import mean_squared_error, r2_score\n",
    "\n",
    "\n",
    "# Create linear regression object\n",
    "regr = linear_model.LinearRegression()\n",
    "\n",
    "# Train the model using the training sets\n",
    "regr.fit(data_X_train, y_train)\n",
    "\n",
    "# Make predictions using the testing set\n",
    "data_y_pred = regr.predict(data_X_test)\n",
    "\n",
    "# The coefficients\n",
    "print('Coefficients: \\n', regr.coef_)\n",
    "# The mean squared error\n",
    "print(\"Mean squared error: %.10f\"\n",
    "      % mean_squared_error(y_test, data_y_pred))\n",
    "# Explained variance score: 1 is perfect prediction\n",
    "print('Variance score: %10f' % r2_score(y_test, data_y_pred))"
   ]
  },
  {
   "cell_type": "code",
   "execution_count": 219,
   "metadata": {
    "collapsed": false
   },
   "outputs": [
    {
     "name": "stdout",
     "output_type": "stream",
     "text": [
      "                            OLS Regression Results                            \n",
      "==============================================================================\n",
      "Dep. Variable:                      y   R-squared:                       0.439\n",
      "Model:                            OLS   Adj. R-squared:                  0.317\n",
      "Method:                 Least Squares   F-statistic:                     3.605\n",
      "Date:                Tue, 12 Sep 2017   Prob (F-statistic):            0.00135\n",
      "Time:                        11:32:39   Log-Likelihood:                -68.320\n",
      "No. Observations:                  56   AIC:                             156.6\n",
      "Df Residuals:                      46   BIC:                             176.9\n",
      "Df Model:                          10                                         \n",
      "Covariance Type:            nonrobust                                         \n",
      "==================================================================================\n",
      "                     coef    std err          t      P>|t|      [95.0% Conf. Int.]\n",
      "----------------------------------------------------------------------------------\n",
      "ArrTime            0.1055      0.182      0.579      0.565        -0.261     0.472\n",
      "TweetLen           0.0166      0.032      0.511      0.611        -0.049     0.082\n",
      "PosWords       -4.356e-05   8.57e-05     -0.509      0.614        -0.000     0.000\n",
      "NegWords           0.0003      0.000      2.303      0.026      4.36e-05     0.001\n",
      "AvgTone           -0.1678      0.146     -1.146      0.258        -0.462     0.127\n",
      "GoldsteinScale    -0.0299      0.229     -0.130      0.897        -0.492     0.432\n",
      "NumMentions        0.0004      0.003      0.134      0.894        -0.006     0.007\n",
      "NumSources        -0.0022      0.006     -0.349      0.729        -0.015     0.011\n",
      "NumArticles       -0.0012      0.003     -0.352      0.727        -0.008     0.005\n",
      "Events             0.0062      0.006      0.990      0.327        -0.006     0.019\n",
      "==============================================================================\n",
      "Omnibus:                       88.225   Durbin-Watson:                   1.295\n",
      "Prob(Omnibus):                  0.000   Jarque-Bera (JB):             1399.450\n",
      "Skew:                           4.527   Prob(JB):                    1.30e-304\n",
      "Kurtosis:                      25.755   Cond. No.                     1.05e+04\n",
      "==============================================================================\n",
      "\n",
      "Warnings:\n",
      "[1] Standard Errors assume that the covariance matrix of the errors is correctly specified.\n",
      "[2] The condition number is large, 1.05e+04. This might indicate that there are\n",
      "strong multicollinearity or other numerical problems.\n",
      "(300,)\n",
      "Mean squared error: 0.4707976139\n",
      "Variance score: 0.0306666149\n"
     ]
    }
   ],
   "source": [
    "X = data_X_train\n",
    "y = y_train\n",
    "\n",
    "#X2 = sm.add_constant(X)\n",
    "#est = sm.api.OLS(y,X).fit()\n",
    "#print(est.summary())\n",
    "est = reg.linear_model.OLS(y,X).fit()\n",
    "print(est.summary())\n",
    "\n",
    "pred_y= est.predict(data_X_test)\n",
    "print (pred_y.shape)\n",
    "pred_y = pred_y\n",
    "#print(sm.regression.linear_model.OLSResults.mse_total(data_y_test, pred_y))\n",
    "#print(smt.rmse(data_y_test, pred_y))\n",
    "#print(sm.regression.linear_model.OLSResults.rsquared(data_y_test, pred_y))\n",
    "\n",
    "# # The mean squared error\n",
    "print(\"Mean squared error: %.10f\"\n",
    "       % mean_squared_error(y_test, pred_y))\n",
    "# # Explained variance score: 1 is perfect prediction\n",
    "print('Variance score: %.10f' % r2_score(y_test, pred_y))"
   ]
  },
  {
   "cell_type": "code",
   "execution_count": 220,
   "metadata": {
    "collapsed": false
   },
   "outputs": [
    {
     "name": "stdout",
     "output_type": "stream",
     "text": [
      "(300, 10) (300,)\n",
      "(56, 10) (56,)\n"
     ]
    }
   ],
   "source": [
    "print(data_X_test.shape, y_test.shape)\n",
    "print(data_X_train.shape, y_train.shape)"
   ]
  },
  {
   "cell_type": "code",
   "execution_count": 221,
   "metadata": {
    "collapsed": false
   },
   "outputs": [
    {
     "data": {
      "text/plain": [
       "(300,)"
      ]
     },
     "execution_count": 221,
     "metadata": {},
     "output_type": "execute_result"
    }
   ],
   "source": [
    "pred_y.shape"
   ]
  },
  {
   "cell_type": "code",
   "execution_count": 222,
   "metadata": {
    "collapsed": false
   },
   "outputs": [
    {
     "name": "stdout",
     "output_type": "stream",
     "text": [
      "145.707644386\n",
      "0.0306666149118\n",
      "2.82478568333\n"
     ]
    }
   ],
   "source": [
    "def sstot(y):\n",
    "    mean_y = sum(y)/len(y)\n",
    "    val = 0\n",
    "    for i in range(len(y)):\n",
    "        val+=(y[i]-mean_y)*(y[i]-mean_y)\n",
    "    return val\n",
    "\n",
    "def ssres(y1,y2):\n",
    "    val = 0\n",
    "    for i in range(len(y1)):\n",
    "        val+=(y1[i]-y2[i])*(y1[i]-y2[i])\n",
    "    return val\n",
    "\n",
    "print(sstot(list(y_test)))\n",
    "r2 = 1 - ((ssres(list(y_test),list(pred_y)))/sstot(list(y_test)))\n",
    "print(r2)\n",
    "print(ssres(list(y_test),list(pred_y))/50)"
   ]
  },
  {
   "cell_type": "code",
   "execution_count": 223,
   "metadata": {
    "collapsed": false
   },
   "outputs": [
    {
     "data": {
      "text/plain": [
       "53.005475142024451"
      ]
     },
     "execution_count": 223,
     "metadata": {},
     "output_type": "execute_result"
    }
   ],
   "source": [
    "sstot(list(y_train))"
   ]
  },
  {
   "cell_type": "code",
   "execution_count": null,
   "metadata": {
    "collapsed": true
   },
   "outputs": [],
   "source": []
  }
 ],
 "metadata": {
  "anaconda-cloud": {},
  "kernelspec": {
   "display_name": "Python [Root]",
   "language": "python",
   "name": "Python [Root]"
  },
  "language_info": {
   "codemirror_mode": {
    "name": "ipython",
    "version": 3
   },
   "file_extension": ".py",
   "mimetype": "text/x-python",
   "name": "python",
   "nbconvert_exporter": "python",
   "pygments_lexer": "ipython3",
   "version": "3.5.2"
  }
 },
 "nbformat": 4,
 "nbformat_minor": 2
}
