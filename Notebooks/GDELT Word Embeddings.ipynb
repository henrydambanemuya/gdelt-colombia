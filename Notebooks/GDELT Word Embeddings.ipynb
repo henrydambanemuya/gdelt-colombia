{
 "cells": [
  {
   "cell_type": "code",
   "execution_count": 32,
   "metadata": {
    "collapsed": false
   },
   "outputs": [],
   "source": [
    "# -*- coding: utf-8 -*-   \n",
    "from nltk.corpus import stopwords \n",
    "from string import punctuation \n",
    "from nltk import word_tokenize  \n",
    "from nltk.tokenize import TweetTokenizer\n",
    "from unidecode import unidecode\n",
    "import pandas as pd\n",
    "\n",
    "# stopword list to use\n",
    "characters = ['¿', '¡', 'rt', '…']\n",
    "spanish_stopwords = stopwords.words('spanish') + list(punctuation) + characters + list(map(str,range(10)))\n",
    "\n",
    "non_words = ' '.join([unidecode(word.lower()) for word in spanish_stopwords])\n",
    "\n",
    "tokenizer = TweetTokenizer(strip_handles=True, reduce_len=True)"
   ]
  },
  {
   "cell_type": "code",
   "execution_count": 33,
   "metadata": {
    "collapsed": true
   },
   "outputs": [],
   "source": [
    "all_mentions = pd.read_csv('event_mentions_text_es.csv', encoding='latin-1').sort_values('EventTimeDate', ascending=1)"
   ]
  },
  {
   "cell_type": "code",
   "execution_count": 34,
   "metadata": {
    "collapsed": true
   },
   "outputs": [],
   "source": [
    "def tokenize(text):\n",
    " return [unidecode(word.lower()) for word in tokenizer.tokenize(text) if word.lower() not in non_words]"
   ]
  },
  {
   "cell_type": "code",
   "execution_count": 49,
   "metadata": {
    "collapsed": false
   },
   "outputs": [],
   "source": [
    "sentences = []\n",
    "for text in list(all_mentions.Text.dropna()):\n",
    "    if text !=  '[]':\n",
    "        sentences.append(tokenize(text))"
   ]
  },
  {
   "cell_type": "code",
   "execution_count": 45,
   "metadata": {
    "collapsed": false
   },
   "outputs": [],
   "source": [
    "# import modules & set up logging\n",
    "import gensim, logging\n",
    "logging.basicConfig(format='%(asctime)s : %(levelname)s : %(message)s', level=logging.INFO)\n",
    " \n",
    "# train word2vec on the two sentences\n",
    "model = gensim.models.Word2Vec(sentences, min_count=50, size=100)  # default value is 5"
   ]
  },
  {
   "cell_type": "code",
   "execution_count": 58,
   "metadata": {
    "collapsed": false
   },
   "outputs": [
    {
     "name": "stdout",
     "output_type": "stream",
     "text": [
      "'santos' is to 'colombia' as 'uribe' is to 'uribismo'\n",
      "'santos' is to 'colombia' as 'farc' is to 'farcep'\n",
      "'santos' is to 'colombia' as 'hollande' is to 'francois'\n"
     ]
    }
   ],
   "source": [
    "#model.most_similar('timochenko', topn=50)\n",
    "\n",
    "relations = [\"santos colombia uribe\", \"santos colombia farc\", \"santos colombia hollande\"]\n",
    "\n",
    "for relation in relations:\n",
    "    a, b, x = relation.split()\n",
    "    predicted = model.most_similar([x, b], [a])[0][0]\n",
    "    print (\"'%s' is to '%s' as '%s' is to '%s'\" % (a, b, x, predicted))"
   ]
  },
  {
   "cell_type": "code",
   "execution_count": null,
   "metadata": {
    "collapsed": false
   },
   "outputs": [],
   "source": []
  },
  {
   "cell_type": "code",
   "execution_count": null,
   "metadata": {
    "collapsed": true
   },
   "outputs": [],
   "source": []
  }
 ],
 "metadata": {
  "anaconda-cloud": {},
  "kernelspec": {
   "display_name": "Python [Root]",
   "language": "python",
   "name": "Python [Root]"
  },
  "language_info": {
   "codemirror_mode": {
    "name": "ipython",
    "version": 3
   },
   "file_extension": ".py",
   "mimetype": "text/x-python",
   "name": "python",
   "nbconvert_exporter": "python",
   "pygments_lexer": "ipython3",
   "version": "3.5.2"
  }
 },
 "nbformat": 4,
 "nbformat_minor": 2
}
