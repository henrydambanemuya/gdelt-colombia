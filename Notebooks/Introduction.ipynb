{
 "cells": [
  {
   "cell_type": "markdown",
   "metadata": {},
   "source": [
    "# Overview\n",
    "\n",
    "- Investigate how and to what extent traditional and social media influences peace processes\n",
    "- Investigate news media's influence on online social behavior\n",
    "- Investigate the role of news media in mediating public perceptions (Twitter) towards actual implementation events (PAM)\n",
    "- Investigate how individual and collective information diets affect peace processes\n",
    "- Investigate the composition of peace process related information produced, through GDELT, and consumed by social media users\n",
    "- Investigate number of social media participants (audience size) with respect to media topic: social media attention to news media i.e. how much attention is given to each topic\n",
    "\n",
    "\n",
    "- <b>General Analysis:</b>\n",
    "\n",
    "    1) Linkage-based / Structural Analysis\n",
    "    \n",
    "    2) Content-based analysis\n",
    "    \n",
    "    \n",
    "- <b>Social Influence Analysis:</b>\n",
    "\n",
    "    1) How do we model the nature of influence across actors?\n",
    "    \n",
    "    2) How do we model the spread of influence?\n",
    "    \n",
    "    3) Who are the most influential actors for influence spread?\n",
    "    \n",
    "    \n",
    "- <b>TODO:</b> Research related measures and agorithms on computational analysis of social influence"
   ]
  },
  {
   "cell_type": "markdown",
   "metadata": {},
   "source": [
    "# Questions\n",
    "\n",
    "- What triggers news coverage of implementation events?\n",
    "- What type of implementation events get the most news coverage / social media attention?\n",
    "- How do social events influence news coverage and vice versa\n",
    "- How does new media influence public perceptions of peace process events\n",
    "- How do differences in information production and consumption between news media and social media affect users' information diets\n",
    "- How (un)balanced are social media users' diets compared to mass media production balance?\n",
    "- How do user's information diets influence peace processes\n"
   ]
  },
  {
   "cell_type": "markdown",
   "metadata": {},
   "source": [
    "# TODO\n",
    "\n",
    "- Get GDELT news media data set\n",
    "- Get implementation-related Twitter dataset\n",
    "- Get topical distribution of news media. (Questions: How does news media content compare to social media? What are the similarities / differences in production, topical distribution, etc)\n",
    "- Classify users' information diets\n",
    "- Show a bipartite graph of social media users connected to news media sources\n",
    "- Analyze public opinion and perception towards the Colombian peace process from September 2016 - August 2017\n",
    "- Compare news values between news media and social media (extraordinary, unpredicable, high magnitude, negative, conflictive, related to elites)\n",
    "- Compare event themes between news media and social media"
   ]
  },
  {
   "cell_type": "markdown",
   "metadata": {},
   "source": [
    "# Related Sources\n",
    "\n",
    "- Kulshrestha, Juhi, et al. \"Characterizing Information Diets of Social Media Users.\" ICWSM. 2015.\n",
    "- Olteanu, Alexandra, et al. \"Comparing events coverage in online news and social media: The case of climate change.\" Proceedings of the Ninth International AAAI Conference on Web and Social Media. No. EPFL-CONF-211214. 2015.\n",
    "- Speers, Tammy. \"Welcome or over-reaction? Refugees and asylum seekers in the Welsh media.\" Wales media forum, 2001."
   ]
  },
  {
   "cell_type": "code",
   "execution_count": null,
   "metadata": {
    "collapsed": true
   },
   "outputs": [],
   "source": []
  }
 ],
 "metadata": {
  "anaconda-cloud": {},
  "kernelspec": {
   "display_name": "Python [Root]",
   "language": "python",
   "name": "Python [Root]"
  },
  "language_info": {
   "codemirror_mode": {
    "name": "ipython",
    "version": 3
   },
   "file_extension": ".py",
   "mimetype": "text/x-python",
   "name": "python",
   "nbconvert_exporter": "python",
   "pygments_lexer": "ipython3",
   "version": "3.5.2"
  }
 },
 "nbformat": 4,
 "nbformat_minor": 2
}
